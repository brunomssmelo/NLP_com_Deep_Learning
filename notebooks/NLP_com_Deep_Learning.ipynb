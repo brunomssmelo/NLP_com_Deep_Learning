{
 "cells": [
  {
   "cell_type": "code",
   "execution_count": null,
   "metadata": {
    "collapsed": true
   },
   "outputs": [],
   "source": [
    "[![](https://colab.research.google.com/assets/colab-badge.svg)](https://colab.research.google.com/github/brunomssmelo/NLP_com_Deep_Learning/blob/master/notebooks/NLP_com_Deep_Learning.ipynb)\n",
    "\n",
    "# Processamento de Linguagem Natural usando *Deep Learning*\n",
    "\n",
    "## Introdução\n",
    "\n",
    "## O Paradigma do *Aprendizado Supervisionado*\n",
    "\n",
    "## Métodos clássicos de vetorização de palavras e documentos\n"
   ]
  }
 ],
 "metadata": {
  "kernelspec": {
   "display_name": "Python 3",
   "language": "python",
   "name": "python3"
  },
  "language_info": {
   "codemirror_mode": {
    "name": "ipython",
    "version": 2
   },
   "file_extension": ".py",
   "mimetype": "text/x-python",
   "name": "python",
   "nbconvert_exporter": "python",
   "pygments_lexer": "ipython2",
   "version": "2.7.6"
  },
  "pycharm": {
   "stem_cell": {
    "cell_type": "raw",
    "source": [],
    "metadata": {
     "collapsed": false
    }
   }
  }
 },
 "nbformat": 4,
 "nbformat_minor": 0
}