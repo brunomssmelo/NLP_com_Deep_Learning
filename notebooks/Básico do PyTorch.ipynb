{
 "cells": [
  {
   "cell_type": "markdown",
   "metadata": {
    "collapsed": true,
    "pycharm": {
     "name": "#%% md\n"
    }
   },
   "source": [
    "# Introdução ao Processamento de Linguagem Natural com PyTorch\n",
    "\n",
    "The goals for this chapter are to:\n",
    "\n",
    "* Develop a clear understanding of the supervised learning paradigm, understand terminology, and develop a conceptual framework to approach learning tasks for future chapters.\n",
    "* Learn how to encode inputs for the learning tasks.\n",
    "* Understand what computational graphs are.\n",
    "* Master the basics of PyTorch\n",
    "\n",
    "## Aprendizado Supervisionado\n",
    "\n",
    "\n",
    "## Básico de PyTorch"
   ]
  },
  {
   "cell_type": "markdown",
   "metadata": {
    "pycharm": {
     "name": "#%% md\n"
    }
   },
   "source": [
    "### Tipos de Dados no PyTorch\n",
    "\n",
    "* Escalares - valores numéricos isolados\n",
    "* Vetores - arranjos unidimensionais (listas) de valores numéricos\n",
    "* Matrizes - arranjos bidimensionais (tabelas) de valores nunméricos\n",
    "* Tensores - arranjos n-dimensionais (acima de 2 dimensões) de valores numéricos"
   ]
  },
  {
   "cell_type": "markdown",
   "metadata": {
    "pycharm": {
     "name": "#%% md\n"
    }
   },
   "source": [
    "### Criação de Tensores de valores Aleatórios \n",
    "\n",
    "A biblioteca PyTorch permite a criação de tensores de diversas formas por meio de seu pacote `torch`. \n",
    "Uma das formas de se criar um tensor é por meio da inicialização aleatória de seus valores, após a especificação de suas\n",
    "dimensões.\n",
    "\n",
    "Antes de fornecermos um exemplo, é necessário importar o pacote `torch`.\n",
    "Para garantir a reprodutibilidade do exemplo, iremos inicializar o gerador de números aleatórios do PyThorch com a\n",
    "semente `1234`:\n",
    "\n",
    "```python\n",
    "import torch\n",
    "torch.manual_seed(1234)\n",
    "```   "
   ]
  },
  {
   "cell_type": "code",
   "execution_count": 9,
   "metadata": {
    "pycharm": {
     "name": "#%%\n",
     "is_executing": false
    }
   },
   "outputs": [
    {
     "data": {
      "text/plain": "<torch._C.Generator at 0x1c40127c2b0>"
     },
     "metadata": {},
     "output_type": "execute_result",
     "execution_count": 9
    }
   ],
   "source": [
    "import torch\n",
    "torch.manual_seed(1234)"
   ]
  },
  {
   "cell_type": "markdown",
   "metadata": {
    "pycharm": {
     "name": "#%% md\n"
    }
   },
   "source": [
    "Antes de criarmos nosso primeiro tensor iremos definir a função `describe(x)` cujo objetivo é a sumarização das\n",
    "principais propriedades de um tensor por meio da chamada/acesso a métodos/atributos da classe `tensor` bem como da\n",
    "exibição de sues valores:\n",
    "\n",
    "* seu tipo: método `x.type();\n",
    "* suas dimensões: atributo `x.shape`; e\n",
    "* seus valores: `x`.\n",
    "\n",
    "```python\n",
    "def describe(x):\n",
    "    print(f'Type: {x.type()}')\n",
    "    print(f'Shape/size: {x.shape}')\n",
    "    print(f'Values: \\n{x}')\n",
    "```"
   ]
  },
  {
   "cell_type": "code",
   "execution_count": 10,
   "metadata": {
    "pycharm": {
     "is_executing": false,
     "name": "#%%\n"
    }
   },
   "outputs": [],
   "source": [
    "def describe(x):\n",
    "    print(f'Type: {x.type()}')\n",
    "    print(f'Shape/size: {x.shape}')\n",
    "    print(f'Values: \\n{x}')"
   ]
  },
  {
   "cell_type": "markdown",
   "metadata": {
    "pycharm": {
     "name": "#%% md\n"
    }
   },
   "source": [
    "#### Exemplo - Criação de um tensor com valores aleatórios quaisquer:\n",
    "\n",
    "É chegada a hora de criarmos nosso primeiro tensor. Ele terá as dimensões `(2,3)` e seus valores serão inicializados\n",
    "de forma aleatória. Iremos chamar a função `describe(x)` para visualizarmos suas proprieadades e seu conteúdo: \n",
    "\n",
    "```python\n",
    "describe(torch.Tensor(2, 3))\n",
    "```"
   ]
  },
  {
   "cell_type": "code",
   "execution_count": 11,
   "metadata": {
    "pycharm": {
     "is_executing": false,
     "name": "#%%\n"
    }
   },
   "outputs": [
    {
     "name": "stdout",
     "text": [
      "Type: torch.FloatTensor\n",
      "Shape/size: torch.Size([2, 3])\n",
      "Values: \n",
      "tensor([[1.0979e-05, 1.3030e-11, 6.6526e+22],\n",
      "        [4.2423e-08, 2.0971e-07, 2.0470e+23]])\n"
     ],
     "output_type": "stream"
    }
   ],
   "source": [
    "describe(torch.Tensor(2, 3))"
   ]
  },
  {
   "cell_type": "markdown",
   "metadata": {
    "pycharm": {
     "name": "#%% md\n"
    }
   },
   "source": [
    "É possível criar tensores cujos elementos sejam obtidos, aleatoriamente, a partir de distribuições de probabilidade \n",
    "previamente especificadas:\n",
    "\n",
    "#### Exemplo - Criação de um tensor cujos elementos correspondem a uma variável aleatória oriunda de uma distribuição de probabilidades Uniforme, definida no intervalo $[0, 1)$:\n",
    "\n",
    "```python\n",
    "describe(torch.rand(2,3)) # distribuição uniforme no intervalo [0, 1)\n",
    "```"
   ]
  },
  {
   "cell_type": "code",
   "execution_count": 12,
   "metadata": {
    "pycharm": {
     "is_executing": false,
     "name": "#%%\n"
    }
   },
   "outputs": [
    {
     "name": "stdout",
     "text": [
      "Type: torch.FloatTensor\n",
      "Shape/size: torch.Size([2, 3])\n",
      "Values: \n",
      "tensor([[0.0290, 0.4019, 0.2598],\n",
      "        [0.3666, 0.0583, 0.7006]])\n"
     ],
     "output_type": "stream"
    }
   ],
   "source": [
    "describe(torch.rand(2,3))"
   ]
  },
  {
   "cell_type": "markdown",
   "metadata": {
    "pycharm": {
     "name": "#%% md\n"
    }
   },
   "source": [
    "#### Exemplo - Criação de um tensor cujos elementos correspondem a uma variável aleatória oriunda de uma distribuição de probabilidades Normal:\n",
    "\n",
    "```python\n",
    "describe(torch.randn(2,3)) # distribuição normal\n",
    "```"
   ]
  },
  {
   "cell_type": "code",
   "execution_count": 13,
   "metadata": {
    "pycharm": {
     "is_executing": false,
     "name": "#%%\n"
    }
   },
   "outputs": [
    {
     "name": "stdout",
     "text": [
      "Type: torch.FloatTensor\n",
      "Shape/size: torch.Size([2, 3])\n",
      "Values: \n",
      "tensor([[-0.8545,  0.5098, -0.0821],\n",
      "        [ 0.6607,  0.0785,  0.7884]])\n"
     ],
     "output_type": "stream"
    }
   ],
   "source": [
    "describe(torch.randn(2,3))"
   ]
  },
  {
   "cell_type": "markdown",
   "metadata": {
    "pycharm": {
     "name": "#%% md\n"
    }
   },
   "source": [
    "### Criação de Tensores preenchidos com um mesmo escalar\n",
    "\n",
    "Tensores podem ser preenchidos com um mesmo escalar tanto no momento de sua criação como também num momento posterior.\n",
    "\n",
    "No momento de sua criação, podemos definir que seus valores sejam todos iguais a $0$ (`torch.zeros()`) ou a $1$ \n",
    "(`torch.ones()`).\n",
    "\n",
    "#### Exemplo - Criação de vetor de $0$'s\n",
    "```python\n",
    "describe(torch.zeros(2,3))\n",
    "```"
   ]
  },
  {
   "cell_type": "code",
   "execution_count": 15,
   "outputs": [
    {
     "name": "stdout",
     "text": [
      "Type: torch.FloatTensor\n",
      "Shape/size: torch.Size([2, 3])\n",
      "Values: \n",
      "tensor([[0., 0., 0.],\n",
      "        [0., 0., 0.]])\n"
     ],
     "output_type": "stream"
    }
   ],
   "source": [
    "describe(torch.zeros(2,3))"
   ],
   "metadata": {
    "collapsed": false,
    "pycharm": {
     "name": "#%%\n",
     "is_executing": false
    }
   }
  },
  {
   "cell_type": "markdown",
   "source": [
    "#### Exemplo - Criação de vetor de $1$'s\n",
    "```python\n",
    "describe(torch.ones(2,3))\n",
    "```"
   ],
   "metadata": {
    "collapsed": false,
    "pycharm": {
     "name": "#%% md\n"
    }
   }
  },
  {
   "cell_type": "code",
   "execution_count": 16,
   "outputs": [
    {
     "name": "stdout",
     "text": [
      "Type: torch.FloatTensor\n",
      "Shape/size: torch.Size([2, 3])\n",
      "Values: \n",
      "tensor([[1., 1., 1.],\n",
      "        [1., 1., 1.]])\n"
     ],
     "output_type": "stream"
    }
   ],
   "source": [
    "describe(torch.ones(2,3))"
   ],
   "metadata": {
    "collapsed": false,
    "pycharm": {
     "name": "#%%\n",
     "is_executing": false
    }
   }
  },
  {
   "cell_type": "markdown",
   "source": [
    "Caso desejemos preencher os elementos de um tensor com valores escalares diferentes de $0$ e $1$, \n",
    "será necessário chamar o método `fill_()` para um objeto do tipo `tensor` num momento posterior à sua criação. \n",
    "\n",
    "#### Exemplo - preenchimento de um tensor preexistente com um escalar\n",
    "\n",
    "```python\n",
    "# cria vetor x com elementos aleatórios\n",
    "x = torch.rand(2,3)\n",
    "describe(x)\n",
    "\n",
    "# preenche x com o escalar 3.3\n",
    "x.fill_(3.3)\n",
    "describe(x)\n",
    "```"
   ],
   "metadata": {
    "collapsed": false
   }
  },
  {
   "cell_type": "code",
   "execution_count": 20,
   "outputs": [
    {
     "name": "stdout",
     "text": [
      "Type: torch.FloatTensor\n",
      "Shape/size: torch.Size([2, 3])\n",
      "Values: \n",
      "tensor([[0.6662, 0.3343, 0.7893],\n",
      "        [0.3216, 0.5247, 0.6688]])\n",
      "Type: torch.FloatTensor\n",
      "Shape/size: torch.Size([2, 3])\n",
      "Values: \n",
      "tensor([[3.3000, 3.3000, 3.3000],\n",
      "        [3.3000, 3.3000, 3.3000]])\n"
     ],
     "output_type": "stream"
    }
   ],
   "source": [
    "# cria vetor x com elementos aleatórios\n",
    "x = torch.rand(2,3)\n",
    "describe(x)\n",
    "\n",
    "# preenche x com o escalar 3.3\n",
    "x.fill_(3.3)\n",
    "describe(x)"
   ],
   "metadata": {
    "collapsed": false,
    "pycharm": {
     "name": "#%%\n",
     "is_executing": false
    }
   }
  },
  {
   "cell_type": "markdown",
   "source": [
    "> **nota:** métodos cujos nomes terminam com o caractere `_`, como `fill_n`, correspondem a operações do tipo \n",
    "> *in-place*. Tais operações têm efeito sobre o conteúdo do próprio objeto e não sobre uma cópia do mesmo."
   ],
   "metadata": {
    "collapsed": false,
    "pycharm": {
     "name": "#%% md\n"
    }
   }
  },
  {
   "cell_type": "markdown",
   "source": [
    "### Criação de Tensores de forma declarativa\n",
    "\n",
    "PyTorch permite a criação de tensores de forma declarativa, por meio da especificação dos valores de seus elementos. \n",
    "Tais valores podem ser fornecidos por meio de *listas* ou através de *arrays* do tipo NumPy."
   ],
   "metadata": {
    "collapsed": false,
    "pycharm": {
     "name": "#%% md\n"
    }
   }
  },
  {
   "cell_type": "markdown",
   "source": [
    "#### Exemplo - Criação de um tensor a partir de *listas* \n",
    "\n",
    "```python\n",
    "x = torch.Tensor([[0, 1, 1],\n",
    "                  [2, 3, 5]])\n",
    "\n",
    "describe(x)\n",
    "```"
   ],
   "metadata": {
    "collapsed": false,
    "pycharm": {
     "name": "#%% md\n"
    }
   }
  },
  {
   "cell_type": "code",
   "execution_count": 26,
   "outputs": [
    {
     "name": "stdout",
     "text": [
      "Type: torch.FloatTensor\n",
      "Shape/size: torch.Size([2, 3])\n",
      "Values: \n",
      "tensor([[0., 1., 1.],\n",
      "        [2., 3., 5.]])\n"
     ],
     "output_type": "stream"
    }
   ],
   "source": [
    "x = torch.Tensor([[0, 1, 1],\n",
    "                  [2, 3, 5]])\n",
    "\n",
    "describe(x)"
   ],
   "metadata": {
    "collapsed": false,
    "pycharm": {
     "name": "#%%\n",
     "is_executing": false
    }
   }
  },
  {
   "cell_type": "markdown",
   "source": [
    "#### Exemplo - Criação de um tensor a partir de um *array* NumPy \n",
    "\n",
    "```python\n",
    "import numpy as np\n",
    "\n",
    "np_array = np.random.rand(2, 3) # criação de um array NumPy (2,3) a partir de uma dist. uniforme\n",
    "x = torch.from_numpy(np_array)  # criação de um tensor PyTorch a partir de np_array\n",
    "\n",
    "describe(x)\n",
    "```"
   ],
   "metadata": {
    "collapsed": false
   }
  },
  {
   "cell_type": "code",
   "execution_count": 22,
   "outputs": [
    {
     "name": "stdout",
     "text": [
      "Type: torch.DoubleTensor\n",
      "Shape/size: torch.Size([2, 3])\n",
      "Values: \n",
      "tensor([[0.1615, 0.7033, 0.5173],\n",
      "        [0.3792, 0.3803, 0.5399]], dtype=torch.float64)\n"
     ],
     "output_type": "stream"
    }
   ],
   "source": [
    "import numpy as np\n",
    "\n",
    "np_array = np.random.rand(2, 3) # criação de um array NumPy (2,3) a partir de uma dist. uniforme\n",
    "x = torch.from_numpy(np_array)  # criação de um tensor PyTorch a partir de np_array\n",
    "\n",
    "describe(x)"
   ],
   "metadata": {
    "collapsed": false,
    "pycharm": {
     "name": "#%%\n",
     "is_executing": false
    }
   }
  },
  {
   "cell_type": "markdown",
   "source": [
    "## Tipos e Dimensões de Tensores\n"
   ],
   "metadata": {
    "collapsed": false,
    "pycharm": {
     "name": "#%% md\n"
    }
   }
  }
 ],
 "metadata": {
  "kernelspec": {
   "display_name": "Python 3",
   "language": "python",
   "name": "python3"
  },
  "language_info": {
   "codemirror_mode": {
    "name": "ipython",
    "version": 3
   },
   "file_extension": ".py",
   "mimetype": "text/x-python",
   "name": "python",
   "nbconvert_exporter": "python",
   "pygments_lexer": "ipython3",
   "version": "3.7.5"
  },
  "pycharm": {
   "stem_cell": {
    "cell_type": "raw",
    "source": [],
    "metadata": {
     "collapsed": false
    }
   }
  }
 },
 "nbformat": 4,
 "nbformat_minor": 1
}