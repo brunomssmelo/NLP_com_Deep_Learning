{
 "cells": [
  {
   "cell_type": "markdown",
   "metadata": {
    "collapsed": true,
    "pycharm": {
     "name": "#%% md\n"
    }
   },
   "source": [
    "## Reproduzindo a vetorização TF-IDF realizada pelo scikit-learn\n",
    "\n",
    "Normalmente os livros-texto abordam o assunto \"Vetorização de texto pelo método TF-IDF\" apresentando fórmulas \n",
    "que nem sempre são utilizadas na prática pelos *frameworks* de NLP.\n",
    "\n",
    "O objetivo deste pequeno *notebook* é apresentar o tópico em questão de forma sucinta, adotando as expressões \n",
    "clássicas e, na sequência, apresentar como o TF-IDF é , de fato, calculado no scikit-learn.  \n",
    "\n",
    "### IDF\n",
    "\n",
    "O inverso da frequencia de ocorrência de um termo (ou palavra) nos documentos de um *corpus* — *IDF - Inverse Document \n",
    "Frequency* — é uma métrica ou representação que penaliza as palavras que aparecem com muita frequencia e bonifica \n",
    "aquelas que ocorrem com raridade na base.\n",
    "\n",
    "Embora existam algumas pequenas variações na sua forma de implementação, a fórmula comumente apresentada nos \n",
    "livros-texto para o cálculo da IDF de uma palavra $w$ em relação a um *corpus* é:\n",
    "\n",
    "$$\\text{IDF}_{w} = log\\frac{N}{n_w},$$ \n",
    "\n",
    "onde $n_w$ é o nº de documentos que contêm a palavra $w$ e $N$ é o nº total de documentos no *corpus*.\n",
    "\n",
    "### TF-IDF\n",
    "\n",
    "O TF-IDF de uma palavra $w$ num documento $d$ de um *corpus* será então calculado por:\n",
    "\n",
    "$$\\text{TF-IDF}_{d} = \\text{TF}_{w,d} \\times \\text{IDF}_w$$ \n",
    "\n",
    "> **nota**: segundo as fórmulas anteriormente apresentadas, termos muito frequentes que apareçam em todos os\n",
    "> documentos ($n_w=N$) terão um $\\text{IDF}_w=0$ resultando numa penalização máxima para seu $\\text{TF-IDF}$. Por\n",
    "> outro lado, um termo $w$ que ocorra em um único documento terá $\\text{IDF}_{w}=logN$, resultando no maior valor \n",
    "> possível para $\\text{TF-IDF}_{w} = \\text{TF}_{w,d} \\times logN$.\n",
    "\n",
    "<br>\n",
    "\n",
    "#### Exemplo\n",
    "\n",
    "Consideremos por exemplo uma base de contratos celebrados por algum órgão da administração pública. Nesta base poderia \n",
    "existir uma campo \"Descrição do objeto\" contendo uma descrição sucinta do objeto dos contratos, como a seguir:\n",
    "\n",
    "|Nº do contrato| Descrição do objeto                   |\n",
    "|:-------------|:--------------------------------------|\n",
    "|01            |\"manutenção de ar condicionado\"        |\n",
    "|02            |\"contratação de serviço\"               |\n",
    "|03            |\"contratação de pintor\"                |\n",
    "|04            |\"serviço de hemodiálise\"               |\n",
    "|05            |\"contratação de serviço de pintor\"     | \n",
    "|06            |\"aquisição de peças de ar condicionado\"|"
   ]
  },
  {
   "cell_type": "markdown",
   "source": [
    "Nos passos a seguir iremos utilizar as fórmulas clássicas para calcular a vetorização $\\text{TF-IDF}$ do *corpus* \n",
    "apresentado."
   ],
   "metadata": {
    "collapsed": false,
    "pycharm": {
     "name": "#%% md\n"
    }
   }
  },
  {
   "cell_type": "markdown",
   "source": [
    "#### Passo 1:\n",
    "\n",
    "Cálculo da frequência dos termos (palavras) em cada um dos documentos do *corpus*:"
   ],
   "metadata": {
    "collapsed": false,
    "pycharm": {
     "name": "#%% md\n"
    }
   }
  },
  {
   "cell_type": "code",
   "execution_count": 3,
   "outputs": [
    {
     "data": {
      "text/plain": "                aquisição  ar  condicionado  contratação  de  hemodiálise  \\\n$\\text{doc}_1$          0   1             1            0   1            0   \n$\\text{doc}_2$          0   0             0            1   1            0   \n$\\text{doc}_3$          0   0             0            1   1            0   \n$\\text{doc}_4$          0   0             0            0   1            1   \n$\\text{doc}_5$          0   0             0            1   2            0   \n$\\text{doc}_6$          1   1             1            0   2            0   \n\n                manutenção  peças  pintor  serviço  \n$\\text{doc}_1$           1      0       0        0  \n$\\text{doc}_2$           0      0       0        1  \n$\\text{doc}_3$           0      0       1        0  \n$\\text{doc}_4$           0      0       0        1  \n$\\text{doc}_5$           0      0       1        1  \n$\\text{doc}_6$           0      1       0        0  ",
      "text/html": "<div>\n<style scoped>\n    .dataframe tbody tr th:only-of-type {\n        vertical-align: middle;\n    }\n\n    .dataframe tbody tr th {\n        vertical-align: top;\n    }\n\n    .dataframe thead th {\n        text-align: right;\n    }\n</style>\n<table border=\"1\" class=\"dataframe\">\n  <thead>\n    <tr style=\"text-align: right;\">\n      <th></th>\n      <th>aquisição</th>\n      <th>ar</th>\n      <th>condicionado</th>\n      <th>contratação</th>\n      <th>de</th>\n      <th>hemodiálise</th>\n      <th>manutenção</th>\n      <th>peças</th>\n      <th>pintor</th>\n      <th>serviço</th>\n    </tr>\n  </thead>\n  <tbody>\n    <tr>\n      <th>$\\text{doc}_1$</th>\n      <td>0</td>\n      <td>1</td>\n      <td>1</td>\n      <td>0</td>\n      <td>1</td>\n      <td>0</td>\n      <td>1</td>\n      <td>0</td>\n      <td>0</td>\n      <td>0</td>\n    </tr>\n    <tr>\n      <th>$\\text{doc}_2$</th>\n      <td>0</td>\n      <td>0</td>\n      <td>0</td>\n      <td>1</td>\n      <td>1</td>\n      <td>0</td>\n      <td>0</td>\n      <td>0</td>\n      <td>0</td>\n      <td>1</td>\n    </tr>\n    <tr>\n      <th>$\\text{doc}_3$</th>\n      <td>0</td>\n      <td>0</td>\n      <td>0</td>\n      <td>1</td>\n      <td>1</td>\n      <td>0</td>\n      <td>0</td>\n      <td>0</td>\n      <td>1</td>\n      <td>0</td>\n    </tr>\n    <tr>\n      <th>$\\text{doc}_4$</th>\n      <td>0</td>\n      <td>0</td>\n      <td>0</td>\n      <td>0</td>\n      <td>1</td>\n      <td>1</td>\n      <td>0</td>\n      <td>0</td>\n      <td>0</td>\n      <td>1</td>\n    </tr>\n    <tr>\n      <th>$\\text{doc}_5$</th>\n      <td>0</td>\n      <td>0</td>\n      <td>0</td>\n      <td>1</td>\n      <td>2</td>\n      <td>0</td>\n      <td>0</td>\n      <td>0</td>\n      <td>1</td>\n      <td>1</td>\n    </tr>\n    <tr>\n      <th>$\\text{doc}_6$</th>\n      <td>1</td>\n      <td>1</td>\n      <td>1</td>\n      <td>0</td>\n      <td>2</td>\n      <td>0</td>\n      <td>0</td>\n      <td>1</td>\n      <td>0</td>\n      <td>0</td>\n    </tr>\n  </tbody>\n</table>\n</div>"
     },
     "metadata": {},
     "output_type": "execute_result",
     "execution_count": 3
    }
   ],
   "source": [
    "import numpy as np\n",
    "import pandas as pd\n",
    "from sklearn.feature_extraction.text import CountVectorizer\n",
    "\n",
    "corpus = [\"manutenção de ar condicionado\",\n",
    "          \"contratação de serviço\",\n",
    "          \"contratação de pintor\",\n",
    "          \"serviço de hemodiálise\",\n",
    "          \"contratação de serviço de pintor\", \n",
    "          \"aquisição de peças de ar condicionado\"]\n",
    "\n",
    "tf_vectorizer = CountVectorizer()\n",
    "\n",
    "# cálculo das frequencias das palavras por documento: TF(w,d)\n",
    "tf_w_d = tf_vectorizer.fit_transform(corpus).toarray()\n",
    "\n",
    "# número de documentos no corpus\n",
    "N = len(corpus)\n",
    "\n",
    "# recupera o o vabulario do corpus acima\n",
    "vocab = tf_vectorizer.get_feature_names()\n",
    "\n",
    "# cria rótulos em latex para os documentos que compõem o corpus\n",
    "rotulos = [r'$\\text{doc}_' + str(i+1) + '$' for i in np.arange(N)]\n",
    "\n",
    "# exibe os resultados da vetorização TF em um dataframe pandas\n",
    "pd.DataFrame(tf_w_d, columns=vocab, index=rotulos)"
   ],
   "metadata": {
    "collapsed": false,
    "pycharm": {
     "name": "#%%\n",
     "is_executing": false
    }
   }
  },
  {
   "cell_type": "markdown",
   "source": [
    "#### Passo 2:\n",
    "\n",
    "Cálculo do inverso da frequência dos termos (palavras) do vocabulário nos documentos do *corpus*,\n",
    "segundo a fórmula $\\text{IDF}_w = log\\tfrac{N}{n_w}$:"
   ],
   "metadata": {
    "collapsed": false,
    "pycharm": {
     "name": "#%% md\n"
    }
   }
  },
  {
   "cell_type": "code",
   "execution_count": 4,
   "outputs": [
    {
     "data": {
      "text/plain": "              $\\text{IDF}_w$\naquisição           1.791759\nar                  1.098612\ncondicionado        1.098612\ncontratação         0.693147\nde                  0.000000\nhemodiálise         1.791759\nmanutenção          1.791759\npeças               1.791759\npintor              1.098612\nserviço             0.693147",
      "text/html": "<div>\n<style scoped>\n    .dataframe tbody tr th:only-of-type {\n        vertical-align: middle;\n    }\n\n    .dataframe tbody tr th {\n        vertical-align: top;\n    }\n\n    .dataframe thead th {\n        text-align: right;\n    }\n</style>\n<table border=\"1\" class=\"dataframe\">\n  <thead>\n    <tr style=\"text-align: right;\">\n      <th></th>\n      <th>$\\text{IDF}_w$</th>\n    </tr>\n  </thead>\n  <tbody>\n    <tr>\n      <th>aquisição</th>\n      <td>1.791759</td>\n    </tr>\n    <tr>\n      <th>ar</th>\n      <td>1.098612</td>\n    </tr>\n    <tr>\n      <th>condicionado</th>\n      <td>1.098612</td>\n    </tr>\n    <tr>\n      <th>contratação</th>\n      <td>0.693147</td>\n    </tr>\n    <tr>\n      <th>de</th>\n      <td>0.000000</td>\n    </tr>\n    <tr>\n      <th>hemodiálise</th>\n      <td>1.791759</td>\n    </tr>\n    <tr>\n      <th>manutenção</th>\n      <td>1.791759</td>\n    </tr>\n    <tr>\n      <th>peças</th>\n      <td>1.791759</td>\n    </tr>\n    <tr>\n      <th>pintor</th>\n      <td>1.098612</td>\n    </tr>\n    <tr>\n      <th>serviço</th>\n      <td>0.693147</td>\n    </tr>\n  </tbody>\n</table>\n</div>"
     },
     "metadata": {},
     "output_type": "execute_result",
     "execution_count": 4
    }
   ],
   "source": [
    "# cálculo de N(w):\n",
    "n_w = sum(tf_w_d>0)\n",
    "\n",
    "# calculo do IDF(w):  \n",
    "idf_w = np.log(N/n_w)\n",
    "pd.DataFrame(idf_w, index=vocab, columns=[r'$\\text{IDF}_w$'])"
   ],
   "metadata": {
    "collapsed": false,
    "pycharm": {
     "name": "#%%\n",
     "is_executing": false
    }
   }
  },
  {
   "cell_type": "markdown",
   "source": [
    "#### Passo 3:\n",
    "\n",
    "Cálculo da vetorização $\\text{TF-IDF}$ para os documentos do *corpus*,\n",
    "segundo a fórmula $\\text{TF-IDF}_d = \\text{TF}_{w,d} \\times \\text{IDF}_{w}$:\n",
    " "
   ],
   "metadata": {
    "collapsed": false
   }
  },
  {
   "cell_type": "code",
   "execution_count": 5,
   "outputs": [
    {
     "data": {
      "text/plain": "                aquisição        ar  condicionado  contratação   de  \\\n$\\text{doc}_1$   0.000000  1.098612      1.098612     0.000000  0.0   \n$\\text{doc}_2$   0.000000  0.000000      0.000000     0.693147  0.0   \n$\\text{doc}_3$   0.000000  0.000000      0.000000     0.693147  0.0   \n$\\text{doc}_4$   0.000000  0.000000      0.000000     0.000000  0.0   \n$\\text{doc}_5$   0.000000  0.000000      0.000000     0.693147  0.0   \n$\\text{doc}_6$   1.791759  1.098612      1.098612     0.000000  0.0   \n\n                hemodiálise  manutenção     peças    pintor   serviço  \n$\\text{doc}_1$     0.000000    1.791759  0.000000  0.000000  0.000000  \n$\\text{doc}_2$     0.000000    0.000000  0.000000  0.000000  0.693147  \n$\\text{doc}_3$     0.000000    0.000000  0.000000  1.098612  0.000000  \n$\\text{doc}_4$     1.791759    0.000000  0.000000  0.000000  0.693147  \n$\\text{doc}_5$     0.000000    0.000000  0.000000  1.098612  0.693147  \n$\\text{doc}_6$     0.000000    0.000000  1.791759  0.000000  0.000000  ",
      "text/html": "<div>\n<style scoped>\n    .dataframe tbody tr th:only-of-type {\n        vertical-align: middle;\n    }\n\n    .dataframe tbody tr th {\n        vertical-align: top;\n    }\n\n    .dataframe thead th {\n        text-align: right;\n    }\n</style>\n<table border=\"1\" class=\"dataframe\">\n  <thead>\n    <tr style=\"text-align: right;\">\n      <th></th>\n      <th>aquisição</th>\n      <th>ar</th>\n      <th>condicionado</th>\n      <th>contratação</th>\n      <th>de</th>\n      <th>hemodiálise</th>\n      <th>manutenção</th>\n      <th>peças</th>\n      <th>pintor</th>\n      <th>serviço</th>\n    </tr>\n  </thead>\n  <tbody>\n    <tr>\n      <th>$\\text{doc}_1$</th>\n      <td>0.000000</td>\n      <td>1.098612</td>\n      <td>1.098612</td>\n      <td>0.000000</td>\n      <td>0.0</td>\n      <td>0.000000</td>\n      <td>1.791759</td>\n      <td>0.000000</td>\n      <td>0.000000</td>\n      <td>0.000000</td>\n    </tr>\n    <tr>\n      <th>$\\text{doc}_2$</th>\n      <td>0.000000</td>\n      <td>0.000000</td>\n      <td>0.000000</td>\n      <td>0.693147</td>\n      <td>0.0</td>\n      <td>0.000000</td>\n      <td>0.000000</td>\n      <td>0.000000</td>\n      <td>0.000000</td>\n      <td>0.693147</td>\n    </tr>\n    <tr>\n      <th>$\\text{doc}_3$</th>\n      <td>0.000000</td>\n      <td>0.000000</td>\n      <td>0.000000</td>\n      <td>0.693147</td>\n      <td>0.0</td>\n      <td>0.000000</td>\n      <td>0.000000</td>\n      <td>0.000000</td>\n      <td>1.098612</td>\n      <td>0.000000</td>\n    </tr>\n    <tr>\n      <th>$\\text{doc}_4$</th>\n      <td>0.000000</td>\n      <td>0.000000</td>\n      <td>0.000000</td>\n      <td>0.000000</td>\n      <td>0.0</td>\n      <td>1.791759</td>\n      <td>0.000000</td>\n      <td>0.000000</td>\n      <td>0.000000</td>\n      <td>0.693147</td>\n    </tr>\n    <tr>\n      <th>$\\text{doc}_5$</th>\n      <td>0.000000</td>\n      <td>0.000000</td>\n      <td>0.000000</td>\n      <td>0.693147</td>\n      <td>0.0</td>\n      <td>0.000000</td>\n      <td>0.000000</td>\n      <td>0.000000</td>\n      <td>1.098612</td>\n      <td>0.693147</td>\n    </tr>\n    <tr>\n      <th>$\\text{doc}_6$</th>\n      <td>1.791759</td>\n      <td>1.098612</td>\n      <td>1.098612</td>\n      <td>0.000000</td>\n      <td>0.0</td>\n      <td>0.000000</td>\n      <td>0.000000</td>\n      <td>1.791759</td>\n      <td>0.000000</td>\n      <td>0.000000</td>\n    </tr>\n  </tbody>\n</table>\n</div>"
     },
     "metadata": {},
     "output_type": "execute_result",
     "execution_count": 5
    }
   ],
   "source": [
    "# calculo do TF-IDF(w,d):\n",
    "tfidf_w_d = tf_w_d * idf_w\n",
    "\n",
    "# exibe os resultados da vetorização TF-IDF em um dataframe pandas\n",
    "pd.DataFrame(tfidf_w_d, columns=vocab, index=rotulos)"
   ],
   "metadata": {
    "collapsed": false,
    "pycharm": {
     "name": "#%%\n",
     "is_executing": false
    }
   }
  },
  {
   "cell_type": "markdown",
   "source": [
    "#### Vetorização $\\text{TF-IDF}$ do *corpus* segundo o scikit-learn \n",
    "\n",
    "Agora que calculamos manualmente o $\\text{TF-IDF}$ segundo as fórmulas clássicas, \n",
    "iremos instanciar um objeto da classe `TfidVectorizer` para obtermos uma \n",
    "$\\text{TF-IDF}_{sk}$ por meio da biblioteca scikit-learn.\n",
    "\n",
    "<br>"
   ],
   "metadata": {
    "collapsed": false,
    "pycharm": {
     "name": "#%% md\n",
     "is_executing": false
    }
   }
  },
  {
   "cell_type": "code",
   "execution_count": 6,
   "outputs": [
    {
     "data": {
      "text/plain": "                aquisição        ar  condicionado  contratação        de  \\\n$\\text{doc}_1$   0.000000  0.514331      0.514331     0.000000  0.278423   \n$\\text{doc}_2$   0.000000  0.000000      0.000000     0.644007  0.412927   \n$\\text{doc}_3$   0.000000  0.000000      0.000000     0.596120  0.382222   \n$\\text{doc}_4$   0.000000  0.000000      0.000000     0.000000  0.342849   \n$\\text{doc}_5$   0.000000  0.000000      0.000000     0.445109  0.570793   \n$\\text{doc}_6$   0.491887  0.403355      0.403355     0.000000  0.436697   \n\n                hemodiálise  manutenção     peças    pintor   serviço  \n$\\text{doc}_1$     0.000000    0.627222  0.000000  0.000000  0.000000  \n$\\text{doc}_2$     0.000000    0.000000  0.000000  0.000000  0.644007  \n$\\text{doc}_3$     0.000000    0.000000  0.000000  0.706079  0.000000  \n$\\text{doc}_4$     0.772358    0.000000  0.000000  0.000000  0.534713  \n$\\text{doc}_5$     0.000000    0.000000  0.000000  0.527212  0.445109  \n$\\text{doc}_6$     0.000000    0.000000  0.491887  0.000000  0.000000  ",
      "text/html": "<div>\n<style scoped>\n    .dataframe tbody tr th:only-of-type {\n        vertical-align: middle;\n    }\n\n    .dataframe tbody tr th {\n        vertical-align: top;\n    }\n\n    .dataframe thead th {\n        text-align: right;\n    }\n</style>\n<table border=\"1\" class=\"dataframe\">\n  <thead>\n    <tr style=\"text-align: right;\">\n      <th></th>\n      <th>aquisição</th>\n      <th>ar</th>\n      <th>condicionado</th>\n      <th>contratação</th>\n      <th>de</th>\n      <th>hemodiálise</th>\n      <th>manutenção</th>\n      <th>peças</th>\n      <th>pintor</th>\n      <th>serviço</th>\n    </tr>\n  </thead>\n  <tbody>\n    <tr>\n      <th>$\\text{doc}_1$</th>\n      <td>0.000000</td>\n      <td>0.514331</td>\n      <td>0.514331</td>\n      <td>0.000000</td>\n      <td>0.278423</td>\n      <td>0.000000</td>\n      <td>0.627222</td>\n      <td>0.000000</td>\n      <td>0.000000</td>\n      <td>0.000000</td>\n    </tr>\n    <tr>\n      <th>$\\text{doc}_2$</th>\n      <td>0.000000</td>\n      <td>0.000000</td>\n      <td>0.000000</td>\n      <td>0.644007</td>\n      <td>0.412927</td>\n      <td>0.000000</td>\n      <td>0.000000</td>\n      <td>0.000000</td>\n      <td>0.000000</td>\n      <td>0.644007</td>\n    </tr>\n    <tr>\n      <th>$\\text{doc}_3$</th>\n      <td>0.000000</td>\n      <td>0.000000</td>\n      <td>0.000000</td>\n      <td>0.596120</td>\n      <td>0.382222</td>\n      <td>0.000000</td>\n      <td>0.000000</td>\n      <td>0.000000</td>\n      <td>0.706079</td>\n      <td>0.000000</td>\n    </tr>\n    <tr>\n      <th>$\\text{doc}_4$</th>\n      <td>0.000000</td>\n      <td>0.000000</td>\n      <td>0.000000</td>\n      <td>0.000000</td>\n      <td>0.342849</td>\n      <td>0.772358</td>\n      <td>0.000000</td>\n      <td>0.000000</td>\n      <td>0.000000</td>\n      <td>0.534713</td>\n    </tr>\n    <tr>\n      <th>$\\text{doc}_5$</th>\n      <td>0.000000</td>\n      <td>0.000000</td>\n      <td>0.000000</td>\n      <td>0.445109</td>\n      <td>0.570793</td>\n      <td>0.000000</td>\n      <td>0.000000</td>\n      <td>0.000000</td>\n      <td>0.527212</td>\n      <td>0.445109</td>\n    </tr>\n    <tr>\n      <th>$\\text{doc}_6$</th>\n      <td>0.491887</td>\n      <td>0.403355</td>\n      <td>0.403355</td>\n      <td>0.000000</td>\n      <td>0.436697</td>\n      <td>0.000000</td>\n      <td>0.000000</td>\n      <td>0.491887</td>\n      <td>0.000000</td>\n      <td>0.000000</td>\n    </tr>\n  </tbody>\n</table>\n</div>"
     },
     "metadata": {},
     "output_type": "execute_result",
     "execution_count": 6
    }
   ],
   "source": [
    "from sklearn.feature_extraction.text import TfidfVectorizer\n",
    "\n",
    "tfidf_vectorizer = TfidfVectorizer()\n",
    "\n",
    "tfidf_sk = tfidf_vectorizer.fit_transform(corpus).toarray()\n",
    "\n",
    "# exibe os resultados da vetorização TF-IDF em um dataframe pandas\n",
    "pd.DataFrame(tfidf_sk, columns=vocab, index=rotulos)"
   ],
   "metadata": {
    "collapsed": false,
    "pycharm": {
     "name": "#%%\n",
     "is_executing": false
    }
   }
  },
  {
   "cell_type": "markdown",
   "source": [
    "Ao compararmos os resultados obtidos no *Passo 3* com aqueles retornados pelo \n",
    "scikit-learn, fica evidente a diferença, que só pode ser explicada pelo fato de \n",
    "o scikit-learn empregar fórmulas alternativas para o cálculo da vetorização \n",
    "$\\text{TF-IDF}_w$, conforme descrito na documentação do método \n",
    "[TfidfTransformer()](https://scikit-learn.org/stable/modules/generated/sklearn.feature_extraction.text.TfidfTransformer.html#sklearn.feature_extraction.text.TfidfTransformer).\n",
    "\n",
    "\n",
    "**continua...**"
   ],
   "metadata": {
    "collapsed": false,
    "pycharm": {
     "name": "#%% md\n"
    }
   }
  },
  {
   "cell_type": "code",
   "execution_count": null,
   "outputs": [],
   "source": [],
   "metadata": {
    "collapsed": false,
    "pycharm": {
     "name": "#%%"
    }
   }
  }
 ],
 "metadata": {
  "kernelspec": {
   "display_name": "Python 3",
   "language": "python",
   "name": "python3"
  },
  "language_info": {
   "codemirror_mode": {
    "name": "ipython",
    "version": 2
   },
   "file_extension": ".py",
   "mimetype": "text/x-python",
   "name": "python",
   "nbconvert_exporter": "python",
   "pygments_lexer": "ipython2",
   "version": "2.7.6"
  },
  "pycharm": {
   "stem_cell": {
    "cell_type": "raw",
    "source": [],
    "metadata": {
     "collapsed": false
    }
   }
  }
 },
 "nbformat": 4,
 "nbformat_minor": 0
}