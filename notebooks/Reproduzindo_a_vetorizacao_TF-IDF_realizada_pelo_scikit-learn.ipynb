{
 "cells": [
  {
   "cell_type": "markdown",
   "source": [
    "## Reproduzindo a vetorização TF-IDF realizada pelo scikit-learn\n",
    "\n",
    "Normalmente os livros-texto abordam o assunto \"Vetorização de texto pelo método TF-IDF\" apresentando fórmulas \n",
    "que nem sempre são utilizadas na prática pelos *frameworks* de NLP.\n",
    "\n",
    "O objetivo deste pequeno *notebook* é apresentar o tópico em questão de forma sucinta, adotando as expressões \n",
    "clássicas e, na sequência, apresentar como o TF-IDF é , de fato, calculado no scikit-learn.  \n",
    "\n",
    "### IDF\n",
    "\n",
    "O inverso da frequencia de ocorrência de um termo (ou palavra) nos documentos de um *corpus* — *IDF - Inverse Document \n",
    "Frequency* — é uma métrica ou representação que penaliza as palavras que aparecem com muita frequencia e bonifica \n",
    "aquelas que ocorrem com raridade na base.\n",
    "\n",
    "Embora existam algumas pequenas variações na sua forma de implementação, a fórmula comumente apresentada nos \n",
    "livros-texto para o cálculo da IDF de uma palavra $w$ em relação a um *corpus* é:\n",
    "\n",
    "$$\\text{IDF}_{w} = log\\frac{N}{n_w},$$ \n",
    "\n",
    "onde $n_w$ é o nº de documentos que contêm a palavra $w$ e $N$ é o nº total de documentos no *corpus*.\n",
    "\n",
    "### TF-IDF\n",
    "\n",
    "O TF-IDF de uma palavra $w$ num documento $d$ de um *corpus* será então calculado por:\n",
    "\n",
    "$$\\text{TF-IDF}_{d} = \\text{TF}_{w,d} \\times \\text{IDF}_w$$ \n",
    "\n",
    "> **nota**: segundo as fórmulas anteriormente apresentadas, termos muito frequentes que apareçam em todos os\n",
    "> documentos ($n_w=N$) terão um $\\text{IDF}_w=0$ resultando numa penalização máxima para seu $\\text{TF-IDF}$. Por\n",
    "> outro lado, um termo $w$ que ocorra em um único documento terá $\\text{IDF}_{w}=logN$, resultando no maior valor \n",
    "> possível para $\\text{TF-IDF}_{w} = \\text{TF}_{w,d} \\times logN$.\n",
    "\n",
    "<br>\n",
    "\n",
    "#### Exemplo\n",
    "\n",
    "Consideremos por exemplo uma base de contratos celebrados por algum órgão da administração pública. Nesta base poderia \n",
    "existir uma campo \"Descrição do objeto\" contendo uma descrição sucinta do objeto dos contratos, como a seguir:\n",
    "\n",
    "|Nº do contrato| Descrição do objeto                   |\n",
    "|:-------------|:--------------------------------------|\n",
    "|01            |\"manutenção de ar condicionado\"        |\n",
    "|02            |\"contratação de serviço\"               |\n",
    "|03            |\"contratação de pintor\"                |\n",
    "|04            |\"serviço de hemodiálise\"               |\n",
    "|05            |\"contratação de serviço de pintor\"     | \n",
    "|06            |\"aquisição de peças de ar condicionado\"|"
   ],
   "metadata": {
    "collapsed": false
   }
  },
  {
   "cell_type": "markdown",
   "source": [
    "Nos passos a seguir iremos utilizar as fórmulas clássicas para calcular a vetorização $\\text{TF-IDF}$ do *corpus* \n",
    "apresentado."
   ],
   "metadata": {
    "collapsed": false
   }
  },
  {
   "cell_type": "markdown",
   "source": [
    "#### Passo 1:\n",
    "\n",
    "Cálculo da frequência dos termos (palavras) em cada um dos documentos do *corpus*:"
   ],
   "metadata": {
    "collapsed": false
   }
  },
  {
   "cell_type": "code",
   "execution_count": 28,
   "outputs": [
    {
     "data": {
      "text/plain": "                aquisição  ar  condicionado  contratação  de  hemodiálise  \\\n$\\text{doc}_1$          0   1             1            0   1            0   \n$\\text{doc}_2$          0   0             0            1   1            0   \n$\\text{doc}_3$          0   0             0            1   1            0   \n$\\text{doc}_4$          0   0             0            0   1            1   \n$\\text{doc}_5$          0   0             0            1   2            0   \n$\\text{doc}_6$          1   1             1            0   2            0   \n\n                manutenção  peças  pintor  serviço  \n$\\text{doc}_1$           1      0       0        0  \n$\\text{doc}_2$           0      0       0        1  \n$\\text{doc}_3$           0      0       1        0  \n$\\text{doc}_4$           0      0       0        1  \n$\\text{doc}_5$           0      0       1        1  \n$\\text{doc}_6$           0      1       0        0  ",
      "text/html": "<div>\n<style scoped>\n    .dataframe tbody tr th:only-of-type {\n        vertical-align: middle;\n    }\n\n    .dataframe tbody tr th {\n        vertical-align: top;\n    }\n\n    .dataframe thead th {\n        text-align: right;\n    }\n</style>\n<table border=\"1\" class=\"dataframe\">\n  <thead>\n    <tr style=\"text-align: right;\">\n      <th></th>\n      <th>aquisição</th>\n      <th>ar</th>\n      <th>condicionado</th>\n      <th>contratação</th>\n      <th>de</th>\n      <th>hemodiálise</th>\n      <th>manutenção</th>\n      <th>peças</th>\n      <th>pintor</th>\n      <th>serviço</th>\n    </tr>\n  </thead>\n  <tbody>\n    <tr>\n      <th>$\\text{doc}_1$</th>\n      <td>0</td>\n      <td>1</td>\n      <td>1</td>\n      <td>0</td>\n      <td>1</td>\n      <td>0</td>\n      <td>1</td>\n      <td>0</td>\n      <td>0</td>\n      <td>0</td>\n    </tr>\n    <tr>\n      <th>$\\text{doc}_2$</th>\n      <td>0</td>\n      <td>0</td>\n      <td>0</td>\n      <td>1</td>\n      <td>1</td>\n      <td>0</td>\n      <td>0</td>\n      <td>0</td>\n      <td>0</td>\n      <td>1</td>\n    </tr>\n    <tr>\n      <th>$\\text{doc}_3$</th>\n      <td>0</td>\n      <td>0</td>\n      <td>0</td>\n      <td>1</td>\n      <td>1</td>\n      <td>0</td>\n      <td>0</td>\n      <td>0</td>\n      <td>1</td>\n      <td>0</td>\n    </tr>\n    <tr>\n      <th>$\\text{doc}_4$</th>\n      <td>0</td>\n      <td>0</td>\n      <td>0</td>\n      <td>0</td>\n      <td>1</td>\n      <td>1</td>\n      <td>0</td>\n      <td>0</td>\n      <td>0</td>\n      <td>1</td>\n    </tr>\n    <tr>\n      <th>$\\text{doc}_5$</th>\n      <td>0</td>\n      <td>0</td>\n      <td>0</td>\n      <td>1</td>\n      <td>2</td>\n      <td>0</td>\n      <td>0</td>\n      <td>0</td>\n      <td>1</td>\n      <td>1</td>\n    </tr>\n    <tr>\n      <th>$\\text{doc}_6$</th>\n      <td>1</td>\n      <td>1</td>\n      <td>1</td>\n      <td>0</td>\n      <td>2</td>\n      <td>0</td>\n      <td>0</td>\n      <td>1</td>\n      <td>0</td>\n      <td>0</td>\n    </tr>\n  </tbody>\n</table>\n</div>"
     },
     "metadata": {},
     "output_type": "execute_result",
     "execution_count": 28
    }
   ],
   "source": [
    "import numpy as np\n",
    "import pandas as pd\n",
    "from sklearn.feature_extraction.text import CountVectorizer\n",
    "\n",
    "corpus = [\"manutenção de ar condicionado\",\n",
    "          \"contratação de serviço\",\n",
    "          \"contratação de pintor\",\n",
    "          \"serviço de hemodiálise\",\n",
    "          \"contratação de serviço de pintor\", \n",
    "          \"aquisição de peças de ar condicionado\"]\n",
    "\n",
    "tf_vectorizer = CountVectorizer()\n",
    "\n",
    "# cálculo das frequencias das palavras por documento: TF(w,d)\n",
    "tf_w_d = tf_vectorizer.fit_transform(corpus).toarray()\n",
    "\n",
    "# número de documentos no corpus\n",
    "N = len(corpus)\n",
    "\n",
    "# recupera o o vabulario do corpus acima\n",
    "vocab = tf_vectorizer.get_feature_names()\n",
    "\n",
    "# cria rótulos em latex para os documentos que compõem o corpus\n",
    "rotulos = [r'$\\text{doc}_' + str(i+1) + '$' for i in np.arange(N)]\n",
    "\n",
    "# exibe os resultados da vetorização TF em um dataframe pandas\n",
    "pd.DataFrame(tf_w_d, columns=vocab, index=rotulos)"
   ],
   "metadata": {
    "collapsed": false,
    "pycharm": {
     "name": "#%%\n",
     "is_executing": false
    }
   }
  },
  {
   "cell_type": "markdown",
   "source": [
    "#### Passo 2:\n",
    "\n",
    "Cálculo do inverso da frequência dos termos (palavras) do vocabulário nos documentos do *corpus*,\n",
    "segundo a fórmula $\\text{IDF}_w = log\\tfrac{N}{n_w}$:"
   ],
   "metadata": {
    "collapsed": false
   }
  },
  {
   "cell_type": "code",
   "execution_count": 29,
   "outputs": [
    {
     "data": {
      "text/plain": "              $\\text{IDF}_w$\naquisição           1.791759\nar                  1.098612\ncondicionado        1.098612\ncontratação         0.693147\nde                  0.000000\nhemodiálise         1.791759\nmanutenção          1.791759\npeças               1.791759\npintor              1.098612\nserviço             0.693147",
      "text/html": "<div>\n<style scoped>\n    .dataframe tbody tr th:only-of-type {\n        vertical-align: middle;\n    }\n\n    .dataframe tbody tr th {\n        vertical-align: top;\n    }\n\n    .dataframe thead th {\n        text-align: right;\n    }\n</style>\n<table border=\"1\" class=\"dataframe\">\n  <thead>\n    <tr style=\"text-align: right;\">\n      <th></th>\n      <th>$\\text{IDF}_w$</th>\n    </tr>\n  </thead>\n  <tbody>\n    <tr>\n      <th>aquisição</th>\n      <td>1.791759</td>\n    </tr>\n    <tr>\n      <th>ar</th>\n      <td>1.098612</td>\n    </tr>\n    <tr>\n      <th>condicionado</th>\n      <td>1.098612</td>\n    </tr>\n    <tr>\n      <th>contratação</th>\n      <td>0.693147</td>\n    </tr>\n    <tr>\n      <th>de</th>\n      <td>0.000000</td>\n    </tr>\n    <tr>\n      <th>hemodiálise</th>\n      <td>1.791759</td>\n    </tr>\n    <tr>\n      <th>manutenção</th>\n      <td>1.791759</td>\n    </tr>\n    <tr>\n      <th>peças</th>\n      <td>1.791759</td>\n    </tr>\n    <tr>\n      <th>pintor</th>\n      <td>1.098612</td>\n    </tr>\n    <tr>\n      <th>serviço</th>\n      <td>0.693147</td>\n    </tr>\n  </tbody>\n</table>\n</div>"
     },
     "metadata": {},
     "output_type": "execute_result",
     "execution_count": 29
    }
   ],
   "source": [
    "# cálculo de N(w):\n",
    "n_w = sum(tf_w_d>0)\n",
    "\n",
    "# calculo do IDF(w):  \n",
    "idf_w = np.log(N/n_w)\n",
    "pd.DataFrame(idf_w, index=vocab, columns=[r'$\\text{IDF}_w$'])"
   ],
   "metadata": {
    "collapsed": false,
    "pycharm": {
     "name": "#%%\n",
     "is_executing": false
    }
   }
  },
  {
   "cell_type": "markdown",
   "source": [
    "#### Passo 3:\n",
    "\n",
    "Cálculo da vetorização $\\text{TF-IDF}$ para os documentos do *corpus*,\n",
    "segundo a fórmula $\\text{TF-IDF}_d = \\text{TF}_{w,d} \\times \\text{IDF}_{w}$:\n",
    " "
   ],
   "metadata": {
    "collapsed": false
   }
  },
  {
   "cell_type": "code",
   "execution_count": 30,
   "outputs": [
    {
     "data": {
      "text/plain": "                aquisição        ar  condicionado  contratação   de  \\\n$\\text{doc}_1$   0.000000  1.098612      1.098612     0.000000  0.0   \n$\\text{doc}_2$   0.000000  0.000000      0.000000     0.693147  0.0   \n$\\text{doc}_3$   0.000000  0.000000      0.000000     0.693147  0.0   \n$\\text{doc}_4$   0.000000  0.000000      0.000000     0.000000  0.0   \n$\\text{doc}_5$   0.000000  0.000000      0.000000     0.693147  0.0   \n$\\text{doc}_6$   1.791759  1.098612      1.098612     0.000000  0.0   \n\n                hemodiálise  manutenção     peças    pintor   serviço  \n$\\text{doc}_1$     0.000000    1.791759  0.000000  0.000000  0.000000  \n$\\text{doc}_2$     0.000000    0.000000  0.000000  0.000000  0.693147  \n$\\text{doc}_3$     0.000000    0.000000  0.000000  1.098612  0.000000  \n$\\text{doc}_4$     1.791759    0.000000  0.000000  0.000000  0.693147  \n$\\text{doc}_5$     0.000000    0.000000  0.000000  1.098612  0.693147  \n$\\text{doc}_6$     0.000000    0.000000  1.791759  0.000000  0.000000  ",
      "text/html": "<div>\n<style scoped>\n    .dataframe tbody tr th:only-of-type {\n        vertical-align: middle;\n    }\n\n    .dataframe tbody tr th {\n        vertical-align: top;\n    }\n\n    .dataframe thead th {\n        text-align: right;\n    }\n</style>\n<table border=\"1\" class=\"dataframe\">\n  <thead>\n    <tr style=\"text-align: right;\">\n      <th></th>\n      <th>aquisição</th>\n      <th>ar</th>\n      <th>condicionado</th>\n      <th>contratação</th>\n      <th>de</th>\n      <th>hemodiálise</th>\n      <th>manutenção</th>\n      <th>peças</th>\n      <th>pintor</th>\n      <th>serviço</th>\n    </tr>\n  </thead>\n  <tbody>\n    <tr>\n      <th>$\\text{doc}_1$</th>\n      <td>0.000000</td>\n      <td>1.098612</td>\n      <td>1.098612</td>\n      <td>0.000000</td>\n      <td>0.0</td>\n      <td>0.000000</td>\n      <td>1.791759</td>\n      <td>0.000000</td>\n      <td>0.000000</td>\n      <td>0.000000</td>\n    </tr>\n    <tr>\n      <th>$\\text{doc}_2$</th>\n      <td>0.000000</td>\n      <td>0.000000</td>\n      <td>0.000000</td>\n      <td>0.693147</td>\n      <td>0.0</td>\n      <td>0.000000</td>\n      <td>0.000000</td>\n      <td>0.000000</td>\n      <td>0.000000</td>\n      <td>0.693147</td>\n    </tr>\n    <tr>\n      <th>$\\text{doc}_3$</th>\n      <td>0.000000</td>\n      <td>0.000000</td>\n      <td>0.000000</td>\n      <td>0.693147</td>\n      <td>0.0</td>\n      <td>0.000000</td>\n      <td>0.000000</td>\n      <td>0.000000</td>\n      <td>1.098612</td>\n      <td>0.000000</td>\n    </tr>\n    <tr>\n      <th>$\\text{doc}_4$</th>\n      <td>0.000000</td>\n      <td>0.000000</td>\n      <td>0.000000</td>\n      <td>0.000000</td>\n      <td>0.0</td>\n      <td>1.791759</td>\n      <td>0.000000</td>\n      <td>0.000000</td>\n      <td>0.000000</td>\n      <td>0.693147</td>\n    </tr>\n    <tr>\n      <th>$\\text{doc}_5$</th>\n      <td>0.000000</td>\n      <td>0.000000</td>\n      <td>0.000000</td>\n      <td>0.693147</td>\n      <td>0.0</td>\n      <td>0.000000</td>\n      <td>0.000000</td>\n      <td>0.000000</td>\n      <td>1.098612</td>\n      <td>0.693147</td>\n    </tr>\n    <tr>\n      <th>$\\text{doc}_6$</th>\n      <td>1.791759</td>\n      <td>1.098612</td>\n      <td>1.098612</td>\n      <td>0.000000</td>\n      <td>0.0</td>\n      <td>0.000000</td>\n      <td>0.000000</td>\n      <td>1.791759</td>\n      <td>0.000000</td>\n      <td>0.000000</td>\n    </tr>\n  </tbody>\n</table>\n</div>"
     },
     "metadata": {},
     "output_type": "execute_result",
     "execution_count": 30
    }
   ],
   "source": [
    "# calculo do TF-IDF(w,d):\n",
    "tfidf_w_d = tf_w_d * idf_w\n",
    "\n",
    "# exibe os resultados da vetorização TF-IDF em um dataframe pandas\n",
    "pd.DataFrame(tfidf_w_d, columns=vocab, index=rotulos)"
   ],
   "metadata": {
    "collapsed": false,
    "pycharm": {
     "name": "#%%\n",
     "is_executing": false
    }
   }
  },
  {
   "cell_type": "markdown",
   "source": [
    "#### Vetorização $\\text{TF-IDF}$ do *corpus* segundo o scikit-learn \n",
    "\n",
    "Agora que calculamos manualmente o $\\text{TF-IDF}$ segundo as fórmulas clássicas, \n",
    "iremos instanciar um objeto da classe `TfidVectorizer` para obtermos uma \n",
    "$\\text{TF-IDF}_{sk}$ por meio da biblioteca scikit-learn.\n",
    "\n",
    "<br>"
   ],
   "metadata": {
    "collapsed": false
   }
  },
  {
   "cell_type": "code",
   "execution_count": 31,
   "outputs": [
    {
     "data": {
      "text/plain": "                aquisição        ar  condicionado  contratação        de  \\\n$\\text{doc}_1$   0.000000  0.514331      0.514331     0.000000  0.278423   \n$\\text{doc}_2$   0.000000  0.000000      0.000000     0.644007  0.412927   \n$\\text{doc}_3$   0.000000  0.000000      0.000000     0.596120  0.382222   \n$\\text{doc}_4$   0.000000  0.000000      0.000000     0.000000  0.342849   \n$\\text{doc}_5$   0.000000  0.000000      0.000000     0.445109  0.570793   \n$\\text{doc}_6$   0.491887  0.403355      0.403355     0.000000  0.436697   \n\n                hemodiálise  manutenção     peças    pintor   serviço  \n$\\text{doc}_1$     0.000000    0.627222  0.000000  0.000000  0.000000  \n$\\text{doc}_2$     0.000000    0.000000  0.000000  0.000000  0.644007  \n$\\text{doc}_3$     0.000000    0.000000  0.000000  0.706079  0.000000  \n$\\text{doc}_4$     0.772358    0.000000  0.000000  0.000000  0.534713  \n$\\text{doc}_5$     0.000000    0.000000  0.000000  0.527212  0.445109  \n$\\text{doc}_6$     0.000000    0.000000  0.491887  0.000000  0.000000  ",
      "text/html": "<div>\n<style scoped>\n    .dataframe tbody tr th:only-of-type {\n        vertical-align: middle;\n    }\n\n    .dataframe tbody tr th {\n        vertical-align: top;\n    }\n\n    .dataframe thead th {\n        text-align: right;\n    }\n</style>\n<table border=\"1\" class=\"dataframe\">\n  <thead>\n    <tr style=\"text-align: right;\">\n      <th></th>\n      <th>aquisição</th>\n      <th>ar</th>\n      <th>condicionado</th>\n      <th>contratação</th>\n      <th>de</th>\n      <th>hemodiálise</th>\n      <th>manutenção</th>\n      <th>peças</th>\n      <th>pintor</th>\n      <th>serviço</th>\n    </tr>\n  </thead>\n  <tbody>\n    <tr>\n      <th>$\\text{doc}_1$</th>\n      <td>0.000000</td>\n      <td>0.514331</td>\n      <td>0.514331</td>\n      <td>0.000000</td>\n      <td>0.278423</td>\n      <td>0.000000</td>\n      <td>0.627222</td>\n      <td>0.000000</td>\n      <td>0.000000</td>\n      <td>0.000000</td>\n    </tr>\n    <tr>\n      <th>$\\text{doc}_2$</th>\n      <td>0.000000</td>\n      <td>0.000000</td>\n      <td>0.000000</td>\n      <td>0.644007</td>\n      <td>0.412927</td>\n      <td>0.000000</td>\n      <td>0.000000</td>\n      <td>0.000000</td>\n      <td>0.000000</td>\n      <td>0.644007</td>\n    </tr>\n    <tr>\n      <th>$\\text{doc}_3$</th>\n      <td>0.000000</td>\n      <td>0.000000</td>\n      <td>0.000000</td>\n      <td>0.596120</td>\n      <td>0.382222</td>\n      <td>0.000000</td>\n      <td>0.000000</td>\n      <td>0.000000</td>\n      <td>0.706079</td>\n      <td>0.000000</td>\n    </tr>\n    <tr>\n      <th>$\\text{doc}_4$</th>\n      <td>0.000000</td>\n      <td>0.000000</td>\n      <td>0.000000</td>\n      <td>0.000000</td>\n      <td>0.342849</td>\n      <td>0.772358</td>\n      <td>0.000000</td>\n      <td>0.000000</td>\n      <td>0.000000</td>\n      <td>0.534713</td>\n    </tr>\n    <tr>\n      <th>$\\text{doc}_5$</th>\n      <td>0.000000</td>\n      <td>0.000000</td>\n      <td>0.000000</td>\n      <td>0.445109</td>\n      <td>0.570793</td>\n      <td>0.000000</td>\n      <td>0.000000</td>\n      <td>0.000000</td>\n      <td>0.527212</td>\n      <td>0.445109</td>\n    </tr>\n    <tr>\n      <th>$\\text{doc}_6$</th>\n      <td>0.491887</td>\n      <td>0.403355</td>\n      <td>0.403355</td>\n      <td>0.000000</td>\n      <td>0.436697</td>\n      <td>0.000000</td>\n      <td>0.000000</td>\n      <td>0.491887</td>\n      <td>0.000000</td>\n      <td>0.000000</td>\n    </tr>\n  </tbody>\n</table>\n</div>"
     },
     "metadata": {},
     "output_type": "execute_result",
     "execution_count": 31
    }
   ],
   "source": [
    "from sklearn.feature_extraction.text import TfidfVectorizer\n",
    "\n",
    "tfidf_vectorizer = TfidfVectorizer()\n",
    "\n",
    "tfidf_sk = tfidf_vectorizer.fit_transform(corpus).toarray()\n",
    "\n",
    "# exibe os resultados da vetorização TF-IDF em um dataframe pandas\n",
    "pd.DataFrame(tfidf_sk, columns=vocab, index=rotulos)"
   ],
   "metadata": {
    "collapsed": false,
    "pycharm": {
     "name": "#%%\n",
     "is_executing": false
    }
   }
  },
  {
   "cell_type": "markdown",
   "source": [
    "Ao compararmos os resultados obtidos no *Passo 3* com aqueles retornados pelo \n",
    "scikit-learn, fica evidente a diferença, que só pode ser explicada pelo fato de \n",
    "o scikit-learn empregar fórmulas alternativas para o cálculo da vetorização \n",
    "$\\text{TF-IDF}_w$.\n",
    "\n",
    "Segundo a documentação do  método \n",
    "[TfidfTransformer()](https://scikit-learn.org/stable/modules/generated/sklearn.feature_extraction.text.TfidfTransformer.html#sklearn.feature_extraction.text.TfidfTransformer),\n",
    "a fórmula usada para calcular o $\\text{TF-IDF}_w$ para um termo w de um documento d em um conjunto de documentos \n",
    "é:\n",
    " \n",
    "$$\\text{TF-IDF}_{w, d} = \\text{TF}_{w,d} \\times \\text{IDF}_w,$$ \n",
    "\n",
    "onde $\\text{IDF}_w$ é calculado como:\n",
    " \n",
    "- $$\\textit{IDF}_w = log\\tfrac{1+N}{1+n_w} + 1$$, se `smooth_idf = True`\n",
    "- $$\\textit{IDF}_w = log\\tfrac{N}{n_w} + 1$$, se `smooth_idf = False`\n",
    "\n",
    "> $\\text{obs}_1$: $N$ é o número total de documentos no conjunto de documentos;\n",
    ">\n",
    "> $\\text{obs}_2$: $n_w$ é a frequência de documentos de $w$; ou seja é o número de documentos no *corpus* \n",
    "> que contêm o termo $w$; e\n",
    ">\n",
    "> $\\text{obs}_3$: `smooth_idf` é um parâmetro de entrada para o método construtor da classe \n",
    "> `TfidfTransformer()`, cujo valor padrão é `True`.\n",
    "\n",
    "O efeito de se adicionar \"1\" ao $IDF_w$ nas expressões anteriores é que termos que ocorrem em todos os documentos, \n",
    "como a palavra \"de\" no *corpus* utilizado como exemplo não serão totalmente ignorados."
   ],
   "metadata": {
    "collapsed": false
   }
  },
  {
   "cell_type": "markdown",
   "source": [
    "#### Refazendo os Passos 2 e 3\n",
    "\n",
    "Agora podemos refazer os *Passos 2 e 3* e verificar se conseguimos reproduzir os resultados do scikit-learn:"
   ],
   "metadata": {
    "collapsed": false
   }
  },
  {
   "cell_type": "code",
   "execution_count": 32,
   "outputs": [
    {
     "data": {
      "text/plain": "                aquisição        ar  condicionado  contratação   de  \\\n$\\text{doc}_1$   0.000000  2.098612      2.098612     0.000000  1.0   \n$\\text{doc}_2$   0.000000  0.000000      0.000000     1.693147  1.0   \n$\\text{doc}_3$   0.000000  0.000000      0.000000     1.693147  1.0   \n$\\text{doc}_4$   0.000000  0.000000      0.000000     0.000000  1.0   \n$\\text{doc}_5$   0.000000  0.000000      0.000000     1.693147  2.0   \n$\\text{doc}_6$   2.791759  2.098612      2.098612     0.000000  2.0   \n\n                hemodiálise  manutenção     peças    pintor   serviço  \n$\\text{doc}_1$     0.000000    2.791759  0.000000  0.000000  0.000000  \n$\\text{doc}_2$     0.000000    0.000000  0.000000  0.000000  1.693147  \n$\\text{doc}_3$     0.000000    0.000000  0.000000  2.098612  0.000000  \n$\\text{doc}_4$     2.791759    0.000000  0.000000  0.000000  1.693147  \n$\\text{doc}_5$     0.000000    0.000000  0.000000  2.098612  1.693147  \n$\\text{doc}_6$     0.000000    0.000000  2.791759  0.000000  0.000000  ",
      "text/html": "<div>\n<style scoped>\n    .dataframe tbody tr th:only-of-type {\n        vertical-align: middle;\n    }\n\n    .dataframe tbody tr th {\n        vertical-align: top;\n    }\n\n    .dataframe thead th {\n        text-align: right;\n    }\n</style>\n<table border=\"1\" class=\"dataframe\">\n  <thead>\n    <tr style=\"text-align: right;\">\n      <th></th>\n      <th>aquisição</th>\n      <th>ar</th>\n      <th>condicionado</th>\n      <th>contratação</th>\n      <th>de</th>\n      <th>hemodiálise</th>\n      <th>manutenção</th>\n      <th>peças</th>\n      <th>pintor</th>\n      <th>serviço</th>\n    </tr>\n  </thead>\n  <tbody>\n    <tr>\n      <th>$\\text{doc}_1$</th>\n      <td>0.000000</td>\n      <td>2.098612</td>\n      <td>2.098612</td>\n      <td>0.000000</td>\n      <td>1.0</td>\n      <td>0.000000</td>\n      <td>2.791759</td>\n      <td>0.000000</td>\n      <td>0.000000</td>\n      <td>0.000000</td>\n    </tr>\n    <tr>\n      <th>$\\text{doc}_2$</th>\n      <td>0.000000</td>\n      <td>0.000000</td>\n      <td>0.000000</td>\n      <td>1.693147</td>\n      <td>1.0</td>\n      <td>0.000000</td>\n      <td>0.000000</td>\n      <td>0.000000</td>\n      <td>0.000000</td>\n      <td>1.693147</td>\n    </tr>\n    <tr>\n      <th>$\\text{doc}_3$</th>\n      <td>0.000000</td>\n      <td>0.000000</td>\n      <td>0.000000</td>\n      <td>1.693147</td>\n      <td>1.0</td>\n      <td>0.000000</td>\n      <td>0.000000</td>\n      <td>0.000000</td>\n      <td>2.098612</td>\n      <td>0.000000</td>\n    </tr>\n    <tr>\n      <th>$\\text{doc}_4$</th>\n      <td>0.000000</td>\n      <td>0.000000</td>\n      <td>0.000000</td>\n      <td>0.000000</td>\n      <td>1.0</td>\n      <td>2.791759</td>\n      <td>0.000000</td>\n      <td>0.000000</td>\n      <td>0.000000</td>\n      <td>1.693147</td>\n    </tr>\n    <tr>\n      <th>$\\text{doc}_5$</th>\n      <td>0.000000</td>\n      <td>0.000000</td>\n      <td>0.000000</td>\n      <td>1.693147</td>\n      <td>2.0</td>\n      <td>0.000000</td>\n      <td>0.000000</td>\n      <td>0.000000</td>\n      <td>2.098612</td>\n      <td>1.693147</td>\n    </tr>\n    <tr>\n      <th>$\\text{doc}_6$</th>\n      <td>2.791759</td>\n      <td>2.098612</td>\n      <td>2.098612</td>\n      <td>0.000000</td>\n      <td>2.0</td>\n      <td>0.000000</td>\n      <td>0.000000</td>\n      <td>2.791759</td>\n      <td>0.000000</td>\n      <td>0.000000</td>\n    </tr>\n  </tbody>\n</table>\n</div>"
     },
     "metadata": {},
     "output_type": "execute_result",
     "execution_count": 32
    }
   ],
   "source": [
    "# calculo do IDF(w):  \n",
    "idf_w = np.log(N/n_w) + 1\n",
    "\n",
    "# calculo do TF-IDF(w,d):\n",
    "tfidf_w_d = tf_w_d * idf_w\n",
    "\n",
    "# exibe os resultados da vetorização TF-IDF em um dataframe pandas\n",
    "pd.DataFrame(tfidf_w_d, columns=vocab, index=rotulos)"
   ],
   "metadata": {
    "collapsed": false,
    "pycharm": {
     "name": "#%%\n",
     "is_executing": false
    }
   }
  },
  {
   "cell_type": "markdown",
   "source": [
    "Comparando estes resultados com aqueles produzidos por `TfidVectorizer()` ainda notamos discrepâncias. O que \n",
    "será que está faltando? Só mais um pequeno detalhe: o scikit-learn normaliza a representação vetorial dos \n",
    "documentos de modo que sua norma euclideana tenha valor unitário: $||doc_n||_2 = 1$.\n",
    "\n",
    "A título de exemplo, suponhamos que queiramos normalizar a representação vetorial do primeiro documento (1ª \n",
    "linha da última tabela apresentada).\n",
    "\n",
    "Para evitar confusão, na explicação a seguir, iremos renomear a representação não normalizada deste documento \n",
    "para $d_1$ e chamar a versão normalizada de $doc_1$. Assim teremos:\n",
    "\n",
    "$$\\textit{doc}_1 = \\frac{d_1}{||d_1||_2}, \\text{onde}$$\n",
    "\n",
    "$$||\\textit{d}||_2 = \\sqrt{0.00^2+2.09^2+2.09^2+0.0^2+1.00^2+0.00^2+2.79^2+0.00^2+0.00^2+0.00^2} \\approx 4.19$$"
   ],
   "metadata": {
    "collapsed": false
   }
  },
  {
   "cell_type": "markdown",
   "source": [
    "logo:\n",
    "\n",
    "$$\\textit{doc}_{1} \\approx \\begin{bmatrix} \\tfrac{0.00}{4.19} & \\tfrac{2.09}{4.19} & \\tfrac{2.09}{4.19} & \\tfrac{0.00}{4.19} & \\tfrac{1.00}{4.19} & \\tfrac{0.00}{4.19} & \\tfrac{2.79}{4.19} & \\tfrac{0.00}{4.19} & \\tfrac{0.00}{4.19} & \\tfrac{0.00}{4.19} \\end{bmatrix}$$\n",
    "\n",
    "$$\\textit{doc}_{1} \\approx \\begin{bmatrix} 0.00 & 0.50 & 0.50 & 0.00 & 0.23 & 0.00 & 0.66 & 0.00 & 0.00 & 0.00 \\end{bmatrix}$$"
   ],
   "metadata": {
    "collapsed": false
   }
  },
  {
   "cell_type": "code",
   "execution_count": 33,
   "outputs": [
    {
     "data": {
      "text/plain": "                aquisição        ar  condicionado  contratação        de  \\\n$\\text{doc}_1$   0.000000  0.500205      0.500205     0.000000  0.238350   \n$\\text{doc}_2$   0.000000  0.000000      0.000000     0.652491  0.385372   \n$\\text{doc}_3$   0.000000  0.000000      0.000000     0.588732  0.347715   \n$\\text{doc}_4$   0.000000  0.000000      0.000000     0.000000  0.292845   \n$\\text{doc}_5$   0.000000  0.000000      0.000000     0.450304  0.531914   \n$\\text{doc}_6$   0.523899  0.393824      0.393824     0.000000  0.375318   \n\n                hemodiálise  manutenção     peças    pintor   serviço  \n$\\text{doc}_1$     0.000000    0.665417  0.000000  0.000000  0.000000  \n$\\text{doc}_2$     0.000000    0.000000  0.000000  0.000000  0.652491  \n$\\text{doc}_3$     0.000000    0.000000  0.000000  0.729718  0.000000  \n$\\text{doc}_4$     0.817554    0.000000  0.000000  0.000000  0.495830  \n$\\text{doc}_5$     0.000000    0.000000  0.000000  0.558140  0.450304  \n$\\text{doc}_6$     0.000000    0.000000  0.523899  0.000000  0.000000  ",
      "text/html": "<div>\n<style scoped>\n    .dataframe tbody tr th:only-of-type {\n        vertical-align: middle;\n    }\n\n    .dataframe tbody tr th {\n        vertical-align: top;\n    }\n\n    .dataframe thead th {\n        text-align: right;\n    }\n</style>\n<table border=\"1\" class=\"dataframe\">\n  <thead>\n    <tr style=\"text-align: right;\">\n      <th></th>\n      <th>aquisição</th>\n      <th>ar</th>\n      <th>condicionado</th>\n      <th>contratação</th>\n      <th>de</th>\n      <th>hemodiálise</th>\n      <th>manutenção</th>\n      <th>peças</th>\n      <th>pintor</th>\n      <th>serviço</th>\n    </tr>\n  </thead>\n  <tbody>\n    <tr>\n      <th>$\\text{doc}_1$</th>\n      <td>0.000000</td>\n      <td>0.500205</td>\n      <td>0.500205</td>\n      <td>0.000000</td>\n      <td>0.238350</td>\n      <td>0.000000</td>\n      <td>0.665417</td>\n      <td>0.000000</td>\n      <td>0.000000</td>\n      <td>0.000000</td>\n    </tr>\n    <tr>\n      <th>$\\text{doc}_2$</th>\n      <td>0.000000</td>\n      <td>0.000000</td>\n      <td>0.000000</td>\n      <td>0.652491</td>\n      <td>0.385372</td>\n      <td>0.000000</td>\n      <td>0.000000</td>\n      <td>0.000000</td>\n      <td>0.000000</td>\n      <td>0.652491</td>\n    </tr>\n    <tr>\n      <th>$\\text{doc}_3$</th>\n      <td>0.000000</td>\n      <td>0.000000</td>\n      <td>0.000000</td>\n      <td>0.588732</td>\n      <td>0.347715</td>\n      <td>0.000000</td>\n      <td>0.000000</td>\n      <td>0.000000</td>\n      <td>0.729718</td>\n      <td>0.000000</td>\n    </tr>\n    <tr>\n      <th>$\\text{doc}_4$</th>\n      <td>0.000000</td>\n      <td>0.000000</td>\n      <td>0.000000</td>\n      <td>0.000000</td>\n      <td>0.292845</td>\n      <td>0.817554</td>\n      <td>0.000000</td>\n      <td>0.000000</td>\n      <td>0.000000</td>\n      <td>0.495830</td>\n    </tr>\n    <tr>\n      <th>$\\text{doc}_5$</th>\n      <td>0.000000</td>\n      <td>0.000000</td>\n      <td>0.000000</td>\n      <td>0.450304</td>\n      <td>0.531914</td>\n      <td>0.000000</td>\n      <td>0.000000</td>\n      <td>0.000000</td>\n      <td>0.558140</td>\n      <td>0.450304</td>\n    </tr>\n    <tr>\n      <th>$\\text{doc}_6$</th>\n      <td>0.523899</td>\n      <td>0.393824</td>\n      <td>0.393824</td>\n      <td>0.000000</td>\n      <td>0.375318</td>\n      <td>0.000000</td>\n      <td>0.000000</td>\n      <td>0.523899</td>\n      <td>0.000000</td>\n      <td>0.000000</td>\n    </tr>\n  </tbody>\n</table>\n</div>"
     },
     "metadata": {},
     "output_type": "execute_result",
     "execution_count": 33
    }
   ],
   "source": [
    "tfidf_norm = tfidf_w_d/np.linalg.norm(tfidf_w_d, axis=1).reshape((6,1))\n",
    "\n",
    "pd.DataFrame(tfidf_norm, index=rotulos, columns=vocab)\n"
   ],
   "metadata": {
    "collapsed": false,
    "pycharm": {
     "name": "#%%\n",
     "is_executing": false
    }
   }
  },
  {
   "cell_type": "code",
   "source": [
    "tfidf_norm = tfidf_w_d/np.linalg.norm(tfidf_w_d, axis=1).reshape((6,1))\n",
    "\n",
    "pd.DataFrame(tfidf_norm, index=rotulos, columns=vocab)"
   ],
   "metadata": {
    "collapsed": false,
    "pycharm": {
     "name": "#%%\n",
     "is_executing": false
    }
   },
   "execution_count": 34,
   "outputs": [
    {
     "data": {
      "text/plain": "                aquisição        ar  condicionado  contratação        de  \\\n$\\text{doc}_1$   0.000000  0.500205      0.500205     0.000000  0.238350   \n$\\text{doc}_2$   0.000000  0.000000      0.000000     0.652491  0.385372   \n$\\text{doc}_3$   0.000000  0.000000      0.000000     0.588732  0.347715   \n$\\text{doc}_4$   0.000000  0.000000      0.000000     0.000000  0.292845   \n$\\text{doc}_5$   0.000000  0.000000      0.000000     0.450304  0.531914   \n$\\text{doc}_6$   0.523899  0.393824      0.393824     0.000000  0.375318   \n\n                hemodiálise  manutenção     peças    pintor   serviço  \n$\\text{doc}_1$     0.000000    0.665417  0.000000  0.000000  0.000000  \n$\\text{doc}_2$     0.000000    0.000000  0.000000  0.000000  0.652491  \n$\\text{doc}_3$     0.000000    0.000000  0.000000  0.729718  0.000000  \n$\\text{doc}_4$     0.817554    0.000000  0.000000  0.000000  0.495830  \n$\\text{doc}_5$     0.000000    0.000000  0.000000  0.558140  0.450304  \n$\\text{doc}_6$     0.000000    0.000000  0.523899  0.000000  0.000000  ",
      "text/html": "<div>\n<style scoped>\n    .dataframe tbody tr th:only-of-type {\n        vertical-align: middle;\n    }\n\n    .dataframe tbody tr th {\n        vertical-align: top;\n    }\n\n    .dataframe thead th {\n        text-align: right;\n    }\n</style>\n<table border=\"1\" class=\"dataframe\">\n  <thead>\n    <tr style=\"text-align: right;\">\n      <th></th>\n      <th>aquisição</th>\n      <th>ar</th>\n      <th>condicionado</th>\n      <th>contratação</th>\n      <th>de</th>\n      <th>hemodiálise</th>\n      <th>manutenção</th>\n      <th>peças</th>\n      <th>pintor</th>\n      <th>serviço</th>\n    </tr>\n  </thead>\n  <tbody>\n    <tr>\n      <th>$\\text{doc}_1$</th>\n      <td>0.000000</td>\n      <td>0.500205</td>\n      <td>0.500205</td>\n      <td>0.000000</td>\n      <td>0.238350</td>\n      <td>0.000000</td>\n      <td>0.665417</td>\n      <td>0.000000</td>\n      <td>0.000000</td>\n      <td>0.000000</td>\n    </tr>\n    <tr>\n      <th>$\\text{doc}_2$</th>\n      <td>0.000000</td>\n      <td>0.000000</td>\n      <td>0.000000</td>\n      <td>0.652491</td>\n      <td>0.385372</td>\n      <td>0.000000</td>\n      <td>0.000000</td>\n      <td>0.000000</td>\n      <td>0.000000</td>\n      <td>0.652491</td>\n    </tr>\n    <tr>\n      <th>$\\text{doc}_3$</th>\n      <td>0.000000</td>\n      <td>0.000000</td>\n      <td>0.000000</td>\n      <td>0.588732</td>\n      <td>0.347715</td>\n      <td>0.000000</td>\n      <td>0.000000</td>\n      <td>0.000000</td>\n      <td>0.729718</td>\n      <td>0.000000</td>\n    </tr>\n    <tr>\n      <th>$\\text{doc}_4$</th>\n      <td>0.000000</td>\n      <td>0.000000</td>\n      <td>0.000000</td>\n      <td>0.000000</td>\n      <td>0.292845</td>\n      <td>0.817554</td>\n      <td>0.000000</td>\n      <td>0.000000</td>\n      <td>0.000000</td>\n      <td>0.495830</td>\n    </tr>\n    <tr>\n      <th>$\\text{doc}_5$</th>\n      <td>0.000000</td>\n      <td>0.000000</td>\n      <td>0.000000</td>\n      <td>0.450304</td>\n      <td>0.531914</td>\n      <td>0.000000</td>\n      <td>0.000000</td>\n      <td>0.000000</td>\n      <td>0.558140</td>\n      <td>0.450304</td>\n    </tr>\n    <tr>\n      <th>$\\text{doc}_6$</th>\n      <td>0.523899</td>\n      <td>0.393824</td>\n      <td>0.393824</td>\n      <td>0.000000</td>\n      <td>0.375318</td>\n      <td>0.000000</td>\n      <td>0.000000</td>\n      <td>0.523899</td>\n      <td>0.000000</td>\n      <td>0.000000</td>\n    </tr>\n  </tbody>\n</table>\n</div>"
     },
     "metadata": {},
     "output_type": "execute_result",
     "execution_count": 34
    }
   ]
  },
  {
   "cell_type": "markdown",
   "source": [
    "Nos passos a seguir iremos utilizar as fórmulas clássicas para calcular a vetorização $\\text{TF-IDF}$ do *corpus* \n",
    "apresentado."
   ],
   "metadata": {
    "collapsed": false
   }
  },
  {
   "cell_type": "markdown",
   "source": [
    "#### Passo 1:\n",
    "\n",
    "Cálculo da frequência dos termos (palavras) em cada um dos documentos do *corpus*:"
   ],
   "metadata": {
    "collapsed": false
   }
  },
  {
   "cell_type": "code",
   "execution_count": 35,
   "outputs": [
    {
     "data": {
      "text/plain": "                aquisição  ar  condicionado  contratação  de  hemodiálise  \\\n$\\text{doc}_1$          0   1             1            0   1            0   \n$\\text{doc}_2$          0   0             0            1   1            0   \n$\\text{doc}_3$          0   0             0            1   1            0   \n$\\text{doc}_4$          0   0             0            0   1            1   \n$\\text{doc}_5$          0   0             0            1   2            0   \n$\\text{doc}_6$          1   1             1            0   2            0   \n\n                manutenção  peças  pintor  serviço  \n$\\text{doc}_1$           1      0       0        0  \n$\\text{doc}_2$           0      0       0        1  \n$\\text{doc}_3$           0      0       1        0  \n$\\text{doc}_4$           0      0       0        1  \n$\\text{doc}_5$           0      0       1        1  \n$\\text{doc}_6$           0      1       0        0  ",
      "text/html": "<div>\n<style scoped>\n    .dataframe tbody tr th:only-of-type {\n        vertical-align: middle;\n    }\n\n    .dataframe tbody tr th {\n        vertical-align: top;\n    }\n\n    .dataframe thead th {\n        text-align: right;\n    }\n</style>\n<table border=\"1\" class=\"dataframe\">\n  <thead>\n    <tr style=\"text-align: right;\">\n      <th></th>\n      <th>aquisição</th>\n      <th>ar</th>\n      <th>condicionado</th>\n      <th>contratação</th>\n      <th>de</th>\n      <th>hemodiálise</th>\n      <th>manutenção</th>\n      <th>peças</th>\n      <th>pintor</th>\n      <th>serviço</th>\n    </tr>\n  </thead>\n  <tbody>\n    <tr>\n      <th>$\\text{doc}_1$</th>\n      <td>0</td>\n      <td>1</td>\n      <td>1</td>\n      <td>0</td>\n      <td>1</td>\n      <td>0</td>\n      <td>1</td>\n      <td>0</td>\n      <td>0</td>\n      <td>0</td>\n    </tr>\n    <tr>\n      <th>$\\text{doc}_2$</th>\n      <td>0</td>\n      <td>0</td>\n      <td>0</td>\n      <td>1</td>\n      <td>1</td>\n      <td>0</td>\n      <td>0</td>\n      <td>0</td>\n      <td>0</td>\n      <td>1</td>\n    </tr>\n    <tr>\n      <th>$\\text{doc}_3$</th>\n      <td>0</td>\n      <td>0</td>\n      <td>0</td>\n      <td>1</td>\n      <td>1</td>\n      <td>0</td>\n      <td>0</td>\n      <td>0</td>\n      <td>1</td>\n      <td>0</td>\n    </tr>\n    <tr>\n      <th>$\\text{doc}_4$</th>\n      <td>0</td>\n      <td>0</td>\n      <td>0</td>\n      <td>0</td>\n      <td>1</td>\n      <td>1</td>\n      <td>0</td>\n      <td>0</td>\n      <td>0</td>\n      <td>1</td>\n    </tr>\n    <tr>\n      <th>$\\text{doc}_5$</th>\n      <td>0</td>\n      <td>0</td>\n      <td>0</td>\n      <td>1</td>\n      <td>2</td>\n      <td>0</td>\n      <td>0</td>\n      <td>0</td>\n      <td>1</td>\n      <td>1</td>\n    </tr>\n    <tr>\n      <th>$\\text{doc}_6$</th>\n      <td>1</td>\n      <td>1</td>\n      <td>1</td>\n      <td>0</td>\n      <td>2</td>\n      <td>0</td>\n      <td>0</td>\n      <td>1</td>\n      <td>0</td>\n      <td>0</td>\n    </tr>\n  </tbody>\n</table>\n</div>"
     },
     "metadata": {},
     "output_type": "execute_result",
     "execution_count": 35
    }
   ],
   "source": [
    "import numpy as np\n",
    "import pandas as pd\n",
    "from sklearn.feature_extraction.text import CountVectorizer\n",
    "\n",
    "corpus = [\"manutenção de ar condicionado\",\n",
    "          \"contratação de serviço\",\n",
    "          \"contratação de pintor\",\n",
    "          \"serviço de hemodiálise\",\n",
    "          \"contratação de serviço de pintor\", \n",
    "          \"aquisição de peças de ar condicionado\"]\n",
    "\n",
    "tf_vectorizer = CountVectorizer()\n",
    "\n",
    "# cálculo das frequencias das palavras por documento: TF(w,d)\n",
    "tf_w_d = tf_vectorizer.fit_transform(corpus).toarray()\n",
    "\n",
    "# número de documentos no corpus\n",
    "N = len(corpus)\n",
    "\n",
    "# recupera o o vabulario do corpus acima\n",
    "vocab = tf_vectorizer.get_feature_names()\n",
    "\n",
    "# cria rótulos em latex para os documentos que compõem o corpus\n",
    "rotulos = [r'$\\text{doc}_' + str(i+1) + '$' for i in np.arange(N)]\n",
    "\n",
    "# exibe os resultados da vetorização TF em um dataframe pandas\n",
    "pd.DataFrame(tf_w_d, columns=vocab, index=rotulos)"
   ],
   "metadata": {
    "collapsed": false,
    "pycharm": {
     "name": "#%%\n",
     "is_executing": false
    }
   }
  },
  {
   "cell_type": "markdown",
   "source": [
    "#### Passo 2:\n",
    "\n",
    "Cálculo do inverso da frequência dos termos (palavras) do vocabulário nos documentos do *corpus*,\n",
    "segundo a fórmula $\\text{IDF}_w = log\\tfrac{N}{n_w}$:"
   ],
   "metadata": {
    "collapsed": false
   }
  },
  {
   "cell_type": "code",
   "execution_count": 36,
   "outputs": [
    {
     "data": {
      "text/plain": "              $\\text{IDF}_w$\naquisição           1.791759\nar                  1.098612\ncondicionado        1.098612\ncontratação         0.693147\nde                  0.000000\nhemodiálise         1.791759\nmanutenção          1.791759\npeças               1.791759\npintor              1.098612\nserviço             0.693147",
      "text/html": "<div>\n<style scoped>\n    .dataframe tbody tr th:only-of-type {\n        vertical-align: middle;\n    }\n\n    .dataframe tbody tr th {\n        vertical-align: top;\n    }\n\n    .dataframe thead th {\n        text-align: right;\n    }\n</style>\n<table border=\"1\" class=\"dataframe\">\n  <thead>\n    <tr style=\"text-align: right;\">\n      <th></th>\n      <th>$\\text{IDF}_w$</th>\n    </tr>\n  </thead>\n  <tbody>\n    <tr>\n      <th>aquisição</th>\n      <td>1.791759</td>\n    </tr>\n    <tr>\n      <th>ar</th>\n      <td>1.098612</td>\n    </tr>\n    <tr>\n      <th>condicionado</th>\n      <td>1.098612</td>\n    </tr>\n    <tr>\n      <th>contratação</th>\n      <td>0.693147</td>\n    </tr>\n    <tr>\n      <th>de</th>\n      <td>0.000000</td>\n    </tr>\n    <tr>\n      <th>hemodiálise</th>\n      <td>1.791759</td>\n    </tr>\n    <tr>\n      <th>manutenção</th>\n      <td>1.791759</td>\n    </tr>\n    <tr>\n      <th>peças</th>\n      <td>1.791759</td>\n    </tr>\n    <tr>\n      <th>pintor</th>\n      <td>1.098612</td>\n    </tr>\n    <tr>\n      <th>serviço</th>\n      <td>0.693147</td>\n    </tr>\n  </tbody>\n</table>\n</div>"
     },
     "metadata": {},
     "output_type": "execute_result",
     "execution_count": 36
    }
   ],
   "source": [
    "# cálculo de N(w):\n",
    "n_w = sum(tf_w_d>0)\n",
    "\n",
    "# calculo do IDF(w):  \n",
    "idf_w = np.log(N/n_w)\n",
    "pd.DataFrame(idf_w, index=vocab, columns=[r'$\\text{IDF}_w$'])"
   ],
   "metadata": {
    "collapsed": false,
    "pycharm": {
     "name": "#%%\n",
     "is_executing": false
    }
   }
  },
  {
   "cell_type": "markdown",
   "source": [
    "#### Passo 3:\n",
    "\n",
    "Cálculo da vetorização $\\text{TF-IDF}$ para os documentos do *corpus*,\n",
    "segundo a fórmula $\\text{TF-IDF}_d = \\text{TF}_{w,d} \\times \\text{IDF}_{w}$:\n",
    " "
   ],
   "metadata": {
    "collapsed": false
   }
  },
  {
   "cell_type": "code",
   "execution_count": 37,
   "outputs": [
    {
     "data": {
      "text/plain": "                aquisição        ar  condicionado  contratação   de  \\\n$\\text{doc}_1$   0.000000  1.098612      1.098612     0.000000  0.0   \n$\\text{doc}_2$   0.000000  0.000000      0.000000     0.693147  0.0   \n$\\text{doc}_3$   0.000000  0.000000      0.000000     0.693147  0.0   \n$\\text{doc}_4$   0.000000  0.000000      0.000000     0.000000  0.0   \n$\\text{doc}_5$   0.000000  0.000000      0.000000     0.693147  0.0   \n$\\text{doc}_6$   1.791759  1.098612      1.098612     0.000000  0.0   \n\n                hemodiálise  manutenção     peças    pintor   serviço  \n$\\text{doc}_1$     0.000000    1.791759  0.000000  0.000000  0.000000  \n$\\text{doc}_2$     0.000000    0.000000  0.000000  0.000000  0.693147  \n$\\text{doc}_3$     0.000000    0.000000  0.000000  1.098612  0.000000  \n$\\text{doc}_4$     1.791759    0.000000  0.000000  0.000000  0.693147  \n$\\text{doc}_5$     0.000000    0.000000  0.000000  1.098612  0.693147  \n$\\text{doc}_6$     0.000000    0.000000  1.791759  0.000000  0.000000  ",
      "text/html": "<div>\n<style scoped>\n    .dataframe tbody tr th:only-of-type {\n        vertical-align: middle;\n    }\n\n    .dataframe tbody tr th {\n        vertical-align: top;\n    }\n\n    .dataframe thead th {\n        text-align: right;\n    }\n</style>\n<table border=\"1\" class=\"dataframe\">\n  <thead>\n    <tr style=\"text-align: right;\">\n      <th></th>\n      <th>aquisição</th>\n      <th>ar</th>\n      <th>condicionado</th>\n      <th>contratação</th>\n      <th>de</th>\n      <th>hemodiálise</th>\n      <th>manutenção</th>\n      <th>peças</th>\n      <th>pintor</th>\n      <th>serviço</th>\n    </tr>\n  </thead>\n  <tbody>\n    <tr>\n      <th>$\\text{doc}_1$</th>\n      <td>0.000000</td>\n      <td>1.098612</td>\n      <td>1.098612</td>\n      <td>0.000000</td>\n      <td>0.0</td>\n      <td>0.000000</td>\n      <td>1.791759</td>\n      <td>0.000000</td>\n      <td>0.000000</td>\n      <td>0.000000</td>\n    </tr>\n    <tr>\n      <th>$\\text{doc}_2$</th>\n      <td>0.000000</td>\n      <td>0.000000</td>\n      <td>0.000000</td>\n      <td>0.693147</td>\n      <td>0.0</td>\n      <td>0.000000</td>\n      <td>0.000000</td>\n      <td>0.000000</td>\n      <td>0.000000</td>\n      <td>0.693147</td>\n    </tr>\n    <tr>\n      <th>$\\text{doc}_3$</th>\n      <td>0.000000</td>\n      <td>0.000000</td>\n      <td>0.000000</td>\n      <td>0.693147</td>\n      <td>0.0</td>\n      <td>0.000000</td>\n      <td>0.000000</td>\n      <td>0.000000</td>\n      <td>1.098612</td>\n      <td>0.000000</td>\n    </tr>\n    <tr>\n      <th>$\\text{doc}_4$</th>\n      <td>0.000000</td>\n      <td>0.000000</td>\n      <td>0.000000</td>\n      <td>0.000000</td>\n      <td>0.0</td>\n      <td>1.791759</td>\n      <td>0.000000</td>\n      <td>0.000000</td>\n      <td>0.000000</td>\n      <td>0.693147</td>\n    </tr>\n    <tr>\n      <th>$\\text{doc}_5$</th>\n      <td>0.000000</td>\n      <td>0.000000</td>\n      <td>0.000000</td>\n      <td>0.693147</td>\n      <td>0.0</td>\n      <td>0.000000</td>\n      <td>0.000000</td>\n      <td>0.000000</td>\n      <td>1.098612</td>\n      <td>0.693147</td>\n    </tr>\n    <tr>\n      <th>$\\text{doc}_6$</th>\n      <td>1.791759</td>\n      <td>1.098612</td>\n      <td>1.098612</td>\n      <td>0.000000</td>\n      <td>0.0</td>\n      <td>0.000000</td>\n      <td>0.000000</td>\n      <td>1.791759</td>\n      <td>0.000000</td>\n      <td>0.000000</td>\n    </tr>\n  </tbody>\n</table>\n</div>"
     },
     "metadata": {},
     "output_type": "execute_result",
     "execution_count": 37
    }
   ],
   "source": [
    "# calculo do TF-IDF(w,d):\n",
    "tfidf_w_d = tf_w_d * idf_w\n",
    "\n",
    "# exibe os resultados da vetorização TF-IDF em um dataframe pandas\n",
    "pd.DataFrame(tfidf_w_d, columns=vocab, index=rotulos)"
   ],
   "metadata": {
    "collapsed": false,
    "pycharm": {
     "name": "#%%\n",
     "is_executing": false
    }
   }
  },
  {
   "cell_type": "markdown",
   "source": [
    "#### Vetorização $\\text{TF-IDF}$ do *corpus* segundo o scikit-learn \n",
    "\n",
    "Agora que calculamos manualmente o $\\text{TF-IDF}$ segundo as fórmulas clássicas, \n",
    "iremos instanciar um objeto da classe `TfidVectorizer` para obtermos uma \n",
    "$\\text{TF-IDF}_{sk}$ por meio da biblioteca scikit-learn.\n",
    "\n",
    "<br>"
   ],
   "metadata": {
    "collapsed": false
   }
  },
  {
   "cell_type": "code",
   "execution_count": 38,
   "outputs": [
    {
     "data": {
      "text/plain": "                aquisição        ar  condicionado  contratação        de  \\\n$\\text{doc}_1$   0.000000  0.514331      0.514331     0.000000  0.278423   \n$\\text{doc}_2$   0.000000  0.000000      0.000000     0.644007  0.412927   \n$\\text{doc}_3$   0.000000  0.000000      0.000000     0.596120  0.382222   \n$\\text{doc}_4$   0.000000  0.000000      0.000000     0.000000  0.342849   \n$\\text{doc}_5$   0.000000  0.000000      0.000000     0.445109  0.570793   \n$\\text{doc}_6$   0.491887  0.403355      0.403355     0.000000  0.436697   \n\n                hemodiálise  manutenção     peças    pintor   serviço  \n$\\text{doc}_1$     0.000000    0.627222  0.000000  0.000000  0.000000  \n$\\text{doc}_2$     0.000000    0.000000  0.000000  0.000000  0.644007  \n$\\text{doc}_3$     0.000000    0.000000  0.000000  0.706079  0.000000  \n$\\text{doc}_4$     0.772358    0.000000  0.000000  0.000000  0.534713  \n$\\text{doc}_5$     0.000000    0.000000  0.000000  0.527212  0.445109  \n$\\text{doc}_6$     0.000000    0.000000  0.491887  0.000000  0.000000  ",
      "text/html": "<div>\n<style scoped>\n    .dataframe tbody tr th:only-of-type {\n        vertical-align: middle;\n    }\n\n    .dataframe tbody tr th {\n        vertical-align: top;\n    }\n\n    .dataframe thead th {\n        text-align: right;\n    }\n</style>\n<table border=\"1\" class=\"dataframe\">\n  <thead>\n    <tr style=\"text-align: right;\">\n      <th></th>\n      <th>aquisição</th>\n      <th>ar</th>\n      <th>condicionado</th>\n      <th>contratação</th>\n      <th>de</th>\n      <th>hemodiálise</th>\n      <th>manutenção</th>\n      <th>peças</th>\n      <th>pintor</th>\n      <th>serviço</th>\n    </tr>\n  </thead>\n  <tbody>\n    <tr>\n      <th>$\\text{doc}_1$</th>\n      <td>0.000000</td>\n      <td>0.514331</td>\n      <td>0.514331</td>\n      <td>0.000000</td>\n      <td>0.278423</td>\n      <td>0.000000</td>\n      <td>0.627222</td>\n      <td>0.000000</td>\n      <td>0.000000</td>\n      <td>0.000000</td>\n    </tr>\n    <tr>\n      <th>$\\text{doc}_2$</th>\n      <td>0.000000</td>\n      <td>0.000000</td>\n      <td>0.000000</td>\n      <td>0.644007</td>\n      <td>0.412927</td>\n      <td>0.000000</td>\n      <td>0.000000</td>\n      <td>0.000000</td>\n      <td>0.000000</td>\n      <td>0.644007</td>\n    </tr>\n    <tr>\n      <th>$\\text{doc}_3$</th>\n      <td>0.000000</td>\n      <td>0.000000</td>\n      <td>0.000000</td>\n      <td>0.596120</td>\n      <td>0.382222</td>\n      <td>0.000000</td>\n      <td>0.000000</td>\n      <td>0.000000</td>\n      <td>0.706079</td>\n      <td>0.000000</td>\n    </tr>\n    <tr>\n      <th>$\\text{doc}_4$</th>\n      <td>0.000000</td>\n      <td>0.000000</td>\n      <td>0.000000</td>\n      <td>0.000000</td>\n      <td>0.342849</td>\n      <td>0.772358</td>\n      <td>0.000000</td>\n      <td>0.000000</td>\n      <td>0.000000</td>\n      <td>0.534713</td>\n    </tr>\n    <tr>\n      <th>$\\text{doc}_5$</th>\n      <td>0.000000</td>\n      <td>0.000000</td>\n      <td>0.000000</td>\n      <td>0.445109</td>\n      <td>0.570793</td>\n      <td>0.000000</td>\n      <td>0.000000</td>\n      <td>0.000000</td>\n      <td>0.527212</td>\n      <td>0.445109</td>\n    </tr>\n    <tr>\n      <th>$\\text{doc}_6$</th>\n      <td>0.491887</td>\n      <td>0.403355</td>\n      <td>0.403355</td>\n      <td>0.000000</td>\n      <td>0.436697</td>\n      <td>0.000000</td>\n      <td>0.000000</td>\n      <td>0.491887</td>\n      <td>0.000000</td>\n      <td>0.000000</td>\n    </tr>\n  </tbody>\n</table>\n</div>"
     },
     "metadata": {},
     "output_type": "execute_result",
     "execution_count": 38
    }
   ],
   "source": [
    "from sklearn.feature_extraction.text import TfidfVectorizer\n",
    "\n",
    "tfidf_vectorizer = TfidfVectorizer()\n",
    "\n",
    "tfidf_sk = tfidf_vectorizer.fit_transform(corpus).toarray()\n",
    "\n",
    "# exibe os resultados da vetorização TF-IDF em um dataframe pandas\n",
    "pd.DataFrame(tfidf_sk, columns=vocab, index=rotulos)"
   ],
   "metadata": {
    "collapsed": false,
    "pycharm": {
     "name": "#%%\n",
     "is_executing": false
    }
   }
  },
  {
   "cell_type": "markdown",
   "source": [
    "Ao compararmos os resultados obtidos no *Passo 3* com aqueles retornados pelo \n",
    "scikit-learn, fica evidente a diferença, que só pode ser explicada pelo fato de \n",
    "o scikit-learn empregar fórmulas alternativas para o cálculo da vetorização \n",
    "$\\text{TF-IDF}_w$.\n",
    "\n",
    "Segundo a documentação do  método \n",
    "[TfidfTransformer()](https://scikit-learn.org/stable/modules/generated/sklearn.feature_extraction.text.TfidfTransformer.html#sklearn.feature_extraction.text.TfidfTransformer),\n",
    "a fórmula usada para calcular o $\\text{TF-IDF}_w$ para um termo w de um documento d em um conjunto de documentos \n",
    "é:\n",
    " \n",
    "$$\\text{TF-IDF}_{w, d} = \\text{TF}_{w,d} \\times \\text{IDF}_w,$$ \n",
    "\n",
    "onde $\\text{IDF}_w$ é calculado como:\n",
    " \n",
    "$$\\textit{IDF}_w = log\\tfrac{N}{n_w} + 1 \\text{(se `smooth_idf = False`)}, \\text{ou}$$\n",
    "\n",
    "$$\\textit{IDF}_w = log\\tfrac{1+N}{1+n_w} + 1 \\text{(se `smooth_idf = True`)}$$\n",
    "\n",
    ", em que $N$ é o número total de documentos no conjunto de documentos e $n_w$ \n",
    "é a frequência de documentos de $w$; ou seja é o número de documentos no *corpus* que contêm o termo $w$. \n",
    "O efeito de adicionar \"1\" ao $IDF_w$ na equação acima é que termos que ocorrem em todos os documentos, \n",
    "como a palavra \"de\" no *corpus* acima não serão totalmente ignorados."
   ],
   "metadata": {
    "collapsed": false
   }
  },
  {
   "cell_type": "markdown",
   "source": [
    "#### Refazendo os Passos 2 e 3\n",
    "\n",
    "Agora podemos refazer os *Passos 2 e 3* e verificar se conseguimos reproduzir os resultados do scikit-learn. Para isso, \n",
    "utilizaremos a expressão para o cálculo de $\\text{TF-IDF}{w}$ correspondente à parametrização do objeto da classe \n",
    "`TfidVectorizer()`:"
   ],
   "metadata": {
    "collapsed": false
   }
  },
  {
   "cell_type": "code",
   "execution_count": 39,
   "outputs": [
    {
     "data": {
      "text/plain": "                aquisição        ar  condicionado  contratação   de  \\\n$\\text{doc}_1$   0.000000  1.847298      1.847298     0.000000  1.0   \n$\\text{doc}_2$   0.000000  0.000000      0.000000     1.559616  1.0   \n$\\text{doc}_3$   0.000000  0.000000      0.000000     1.559616  1.0   \n$\\text{doc}_4$   0.000000  0.000000      0.000000     0.000000  1.0   \n$\\text{doc}_5$   0.000000  0.000000      0.000000     1.559616  2.0   \n$\\text{doc}_6$   2.252763  1.847298      1.847298     0.000000  2.0   \n\n                hemodiálise  manutenção     peças    pintor   serviço  \n$\\text{doc}_1$     0.000000    2.252763  0.000000  0.000000  0.000000  \n$\\text{doc}_2$     0.000000    0.000000  0.000000  0.000000  1.559616  \n$\\text{doc}_3$     0.000000    0.000000  0.000000  1.847298  0.000000  \n$\\text{doc}_4$     2.252763    0.000000  0.000000  0.000000  1.559616  \n$\\text{doc}_5$     0.000000    0.000000  0.000000  1.847298  1.559616  \n$\\text{doc}_6$     0.000000    0.000000  2.252763  0.000000  0.000000  ",
      "text/html": "<div>\n<style scoped>\n    .dataframe tbody tr th:only-of-type {\n        vertical-align: middle;\n    }\n\n    .dataframe tbody tr th {\n        vertical-align: top;\n    }\n\n    .dataframe thead th {\n        text-align: right;\n    }\n</style>\n<table border=\"1\" class=\"dataframe\">\n  <thead>\n    <tr style=\"text-align: right;\">\n      <th></th>\n      <th>aquisição</th>\n      <th>ar</th>\n      <th>condicionado</th>\n      <th>contratação</th>\n      <th>de</th>\n      <th>hemodiálise</th>\n      <th>manutenção</th>\n      <th>peças</th>\n      <th>pintor</th>\n      <th>serviço</th>\n    </tr>\n  </thead>\n  <tbody>\n    <tr>\n      <th>$\\text{doc}_1$</th>\n      <td>0.000000</td>\n      <td>1.847298</td>\n      <td>1.847298</td>\n      <td>0.000000</td>\n      <td>1.0</td>\n      <td>0.000000</td>\n      <td>2.252763</td>\n      <td>0.000000</td>\n      <td>0.000000</td>\n      <td>0.000000</td>\n    </tr>\n    <tr>\n      <th>$\\text{doc}_2$</th>\n      <td>0.000000</td>\n      <td>0.000000</td>\n      <td>0.000000</td>\n      <td>1.559616</td>\n      <td>1.0</td>\n      <td>0.000000</td>\n      <td>0.000000</td>\n      <td>0.000000</td>\n      <td>0.000000</td>\n      <td>1.559616</td>\n    </tr>\n    <tr>\n      <th>$\\text{doc}_3$</th>\n      <td>0.000000</td>\n      <td>0.000000</td>\n      <td>0.000000</td>\n      <td>1.559616</td>\n      <td>1.0</td>\n      <td>0.000000</td>\n      <td>0.000000</td>\n      <td>0.000000</td>\n      <td>1.847298</td>\n      <td>0.000000</td>\n    </tr>\n    <tr>\n      <th>$\\text{doc}_4$</th>\n      <td>0.000000</td>\n      <td>0.000000</td>\n      <td>0.000000</td>\n      <td>0.000000</td>\n      <td>1.0</td>\n      <td>2.252763</td>\n      <td>0.000000</td>\n      <td>0.000000</td>\n      <td>0.000000</td>\n      <td>1.559616</td>\n    </tr>\n    <tr>\n      <th>$\\text{doc}_5$</th>\n      <td>0.000000</td>\n      <td>0.000000</td>\n      <td>0.000000</td>\n      <td>1.559616</td>\n      <td>2.0</td>\n      <td>0.000000</td>\n      <td>0.000000</td>\n      <td>0.000000</td>\n      <td>1.847298</td>\n      <td>1.559616</td>\n    </tr>\n    <tr>\n      <th>$\\text{doc}_6$</th>\n      <td>2.252763</td>\n      <td>1.847298</td>\n      <td>1.847298</td>\n      <td>0.000000</td>\n      <td>2.0</td>\n      <td>0.000000</td>\n      <td>0.000000</td>\n      <td>2.252763</td>\n      <td>0.000000</td>\n      <td>0.000000</td>\n    </tr>\n  </tbody>\n</table>\n</div>"
     },
     "metadata": {},
     "output_type": "execute_result",
     "execution_count": 39
    }
   ],
   "source": [
    "# calculo do IDF(w):  \n",
    "idf_w = np.log((1+N)/(1+n_w)) + 1\n",
    "\n",
    "# calculo do TF-IDF(w,d):\n",
    "tfidf_w_d = tf_w_d * idf_w\n",
    "\n",
    "# exibe os resultados da vetorização TF-IDF em um dataframe pandas\n",
    "pd.DataFrame(tfidf_w_d, columns=vocab, index=rotulos)"
   ],
   "metadata": {
    "collapsed": false,
    "pycharm": {
     "name": "#%%\n",
     "is_executing": false
    }
   }
  },
  {
   "cell_type": "markdown",
   "source": [
    "Comparando estes resultados com aqueles produzidos por `TfidVectorizer()` ainda notamos discrepâncias. O que \n",
    "será que está faltando? Só mais um pequeno detalhe: o scikit-learn normaliza a representação vetorial dos \n",
    "documentos de modo que sua norma euclideana tenha valor unitário: $||doc_n||_2 = 1$.\n",
    "\n",
    "A título de exemplo, suponhamos que queiramos normalizar a representação vetorial do primeiro documento (1ª \n",
    "linha da última tabela apresentada).\n",
    "\n",
    "Para evitar confusão, na explicação a seguir, iremos renomear a representação não normalizada deste documento \n",
    "para $d_1$ e chamar a versão normalizada de $doc_1$. Assim teremos:\n",
    "\n",
    "$$\\textit{doc}_1 = \\frac{d_1}{||d_1||_2}, \\text{onde}$$\n",
    "\n",
    "$$||\\textit{d}||_2 = \\sqrt{0.00^2+2.09^2+2.09^2+0.0^2+1.00^2+0.00^2+2.79^2+0.00^2+0.00^2+0.00^2} \\approx 4.19$$"
   ],
   "metadata": {
    "collapsed": false
   }
  },
  {
   "cell_type": "markdown",
   "source": [
    "logo:\n",
    "\n",
    "$$\\textit{doc}_{1} \\approx \\begin{bmatrix} \\tfrac{0.00}{3.59} & \\tfrac{1.84}{3.59} & \\tfrac{1.84}{3.59} & \\tfrac{0.00}{3.59} & \\tfrac{1.00}{3.59} & \\tfrac{0.00}{3.59} & \\tfrac{2.25}{3.59} & \\tfrac{0.00}{3.59} & \\tfrac{0.00}{3.59} & \\tfrac{0.00}{3.59} \\end{bmatrix}$$\n",
    "\n",
    "$$\\textit{doc}_{1} \\approx \\begin{bmatrix} 0.00 & 0.51 & 0.51 & 0.00 & 0.27 & 0.00 & 0.62 & 0.00 & 0.00 & 0.00 \\end{bmatrix}$$\n",
    "\n",
    "> **nota**: em todo o desenvolvimento do cálculo do vetor $\\textit{doc}_{1}$ os resultados numéricos foram apresentados de \n",
    "> forma *truncada* na segunda casa decimal."
   ],
   "metadata": {
    "collapsed": false
   }
  },
  {
   "cell_type": "code",
   "execution_count": 40,
   "outputs": [
    {
     "data": {
      "text/plain": "                aquisição        ar  condicionado  contratação        de  \\\n$\\text{doc}_1$   0.000000  0.514331      0.514331     0.000000  0.278423   \n$\\text{doc}_2$   0.000000  0.000000      0.000000     0.644007  0.412927   \n$\\text{doc}_3$   0.000000  0.000000      0.000000     0.596120  0.382222   \n$\\text{doc}_4$   0.000000  0.000000      0.000000     0.000000  0.342849   \n$\\text{doc}_5$   0.000000  0.000000      0.000000     0.445109  0.570793   \n$\\text{doc}_6$   0.491887  0.403355      0.403355     0.000000  0.436697   \n\n                hemodiálise  manutenção     peças    pintor   serviço  \n$\\text{doc}_1$     0.000000    0.627222  0.000000  0.000000  0.000000  \n$\\text{doc}_2$     0.000000    0.000000  0.000000  0.000000  0.644007  \n$\\text{doc}_3$     0.000000    0.000000  0.000000  0.706079  0.000000  \n$\\text{doc}_4$     0.772358    0.000000  0.000000  0.000000  0.534713  \n$\\text{doc}_5$     0.000000    0.000000  0.000000  0.527212  0.445109  \n$\\text{doc}_6$     0.000000    0.000000  0.491887  0.000000  0.000000  ",
      "text/html": "<div>\n<style scoped>\n    .dataframe tbody tr th:only-of-type {\n        vertical-align: middle;\n    }\n\n    .dataframe tbody tr th {\n        vertical-align: top;\n    }\n\n    .dataframe thead th {\n        text-align: right;\n    }\n</style>\n<table border=\"1\" class=\"dataframe\">\n  <thead>\n    <tr style=\"text-align: right;\">\n      <th></th>\n      <th>aquisição</th>\n      <th>ar</th>\n      <th>condicionado</th>\n      <th>contratação</th>\n      <th>de</th>\n      <th>hemodiálise</th>\n      <th>manutenção</th>\n      <th>peças</th>\n      <th>pintor</th>\n      <th>serviço</th>\n    </tr>\n  </thead>\n  <tbody>\n    <tr>\n      <th>$\\text{doc}_1$</th>\n      <td>0.000000</td>\n      <td>0.514331</td>\n      <td>0.514331</td>\n      <td>0.000000</td>\n      <td>0.278423</td>\n      <td>0.000000</td>\n      <td>0.627222</td>\n      <td>0.000000</td>\n      <td>0.000000</td>\n      <td>0.000000</td>\n    </tr>\n    <tr>\n      <th>$\\text{doc}_2$</th>\n      <td>0.000000</td>\n      <td>0.000000</td>\n      <td>0.000000</td>\n      <td>0.644007</td>\n      <td>0.412927</td>\n      <td>0.000000</td>\n      <td>0.000000</td>\n      <td>0.000000</td>\n      <td>0.000000</td>\n      <td>0.644007</td>\n    </tr>\n    <tr>\n      <th>$\\text{doc}_3$</th>\n      <td>0.000000</td>\n      <td>0.000000</td>\n      <td>0.000000</td>\n      <td>0.596120</td>\n      <td>0.382222</td>\n      <td>0.000000</td>\n      <td>0.000000</td>\n      <td>0.000000</td>\n      <td>0.706079</td>\n      <td>0.000000</td>\n    </tr>\n    <tr>\n      <th>$\\text{doc}_4$</th>\n      <td>0.000000</td>\n      <td>0.000000</td>\n      <td>0.000000</td>\n      <td>0.000000</td>\n      <td>0.342849</td>\n      <td>0.772358</td>\n      <td>0.000000</td>\n      <td>0.000000</td>\n      <td>0.000000</td>\n      <td>0.534713</td>\n    </tr>\n    <tr>\n      <th>$\\text{doc}_5$</th>\n      <td>0.000000</td>\n      <td>0.000000</td>\n      <td>0.000000</td>\n      <td>0.445109</td>\n      <td>0.570793</td>\n      <td>0.000000</td>\n      <td>0.000000</td>\n      <td>0.000000</td>\n      <td>0.527212</td>\n      <td>0.445109</td>\n    </tr>\n    <tr>\n      <th>$\\text{doc}_6$</th>\n      <td>0.491887</td>\n      <td>0.403355</td>\n      <td>0.403355</td>\n      <td>0.000000</td>\n      <td>0.436697</td>\n      <td>0.000000</td>\n      <td>0.000000</td>\n      <td>0.491887</td>\n      <td>0.000000</td>\n      <td>0.000000</td>\n    </tr>\n  </tbody>\n</table>\n</div>"
     },
     "metadata": {},
     "output_type": "execute_result",
     "execution_count": 40
    }
   ],
   "source": [
    "tfidf_norm = tfidf_w_d/np.linalg.norm(tfidf_w_d, axis=1).reshape((6,1))\n",
    "\n",
    "pd.DataFrame(tfidf_norm, index=rotulos, columns=vocab)"
   ],
   "metadata": {
    "collapsed": false,
    "pycharm": {
     "name": "#%%\n",
     "is_executing": false
    }
   }
  },
  {
   "cell_type": "markdown",
   "source": [
    "O resultado acima coincide exatamente com a vetorização produzida pelo scikit-learn!"
   ],
   "metadata": {
    "collapsed": false,
    "pycharm": {
     "name": "#%% md\n"
    }
   }
  },
  {
   "cell_type": "code",
   "execution_count": null,
   "outputs": [],
   "source": [],
   "metadata": {
    "collapsed": false,
    "pycharm": {
     "name": "#%%"
    }
   }
  }
 ],
 "metadata": {
  "kernelspec": {
   "display_name": "Python 3",
   "language": "python",
   "name": "python3"
  },
  "language_info": {
   "codemirror_mode": {
    "name": "ipython",
    "version": 2
   },
   "file_extension": ".py",
   "mimetype": "text/x-python",
   "name": "python",
   "nbconvert_exporter": "python",
   "pygments_lexer": "ipython2",
   "version": "2.7.6"
  },
  "pycharm": {
   "stem_cell": {
    "cell_type": "raw",
    "source": [],
    "metadata": {
     "collapsed": false
    }
   }
  }
 },
 "nbformat": 4,
 "nbformat_minor": 0
}